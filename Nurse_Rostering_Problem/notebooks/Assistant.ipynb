{
 "cells": [
  {
   "cell_type": "code",
   "execution_count": null,
   "metadata": {},
   "outputs": [
    {
     "data": {
      "application/vnd.jupyter.widget-view+json": {
       "model_id": "4b819783d5b74f0f80bec335cdcc3e48",
       "version_major": 2,
       "version_minor": 0
      },
      "text/plain": [
       "Textarea(value='Je veux créer un planning infirmier...', description='Description:', layout=Layout(height='100…"
      ]
     },
     "metadata": {},
     "output_type": "display_data"
    },
    {
     "data": {
      "application/vnd.jupyter.widget-view+json": {
       "model_id": "67bf714653a543eaaba0c5ba64efdabc",
       "version_major": 2,
       "version_minor": 0
      },
      "text/plain": [
       "Button(button_style='success', description='Démarrer la conversation', icon='rocket', style=ButtonStyle())"
      ]
     },
     "metadata": {},
     "output_type": "display_data"
    },
    {
     "name": "stderr",
     "output_type": "stream",
     "text": [
      "/tmp/ipykernel_28368/2850172503.py:130: DeprecationWarning: on_submit is deprecated. Instead, set the .continuous_update attribute to False and observe the value changing with: mywidget.observe(callback, 'value').\n",
      "  input_box.on_submit(on_submit)\n"
     ]
    },
    {
     "data": {
      "application/vnd.jupyter.widget-view+json": {
       "model_id": "8f73242a99d24a4abccd6f28c3d14702",
       "version_major": 2,
       "version_minor": 0
      },
      "text/plain": [
       "HTML(value=\"<div id='output-container'></div>\")"
      ]
     },
     "metadata": {},
     "output_type": "display_data"
    },
    {
     "data": {
      "application/vnd.jupyter.widget-view+json": {
       "model_id": "408dea4923e14c6f83e8b3e1b65feb47",
       "version_major": 2,
       "version_minor": 0
      },
      "text/plain": [
       "HTML(value='<h3>Début de la configuration...</h3>')"
      ]
     },
     "metadata": {},
     "output_type": "display_data"
    },
    {
     "data": {
      "application/vnd.jupyter.widget-view+json": {
       "model_id": "c92f953410c749dc87b6cbed0d9e0f11",
       "version_major": 2,
       "version_minor": 0
      },
      "text/plain": [
       "HTML(value=\"<div style='color: red'>Erreur: 'OpenAIChatCompletion' object has no attribute 'get_prompt_executi…"
      ]
     },
     "metadata": {},
     "output_type": "display_data"
    },
    {
     "data": {
      "application/vnd.jupyter.widget-view+json": {
       "model_id": "ce044411e95b4a828b00f58c482053e1",
       "version_major": 2,
       "version_minor": 0
      },
      "text/plain": [
       "HTML(value=\"<div style='color: red'>Error: 'OpenAIChatCompletion' object has no attribute 'get_prompt_executio…"
      ]
     },
     "metadata": {},
     "output_type": "display_data"
    }
   ],
   "source": [
    "# %% [markdown]\n",
    "# ## 1. Configuration Initiale\n",
    "# - Installation des dépendances\n",
    "# - Import des bibliothèques\n",
    "# - Configuration des widgets\n",
    "\n",
    "\n",
    "import nest_asyncio\n",
    "import time\n",
    "import ipywidgets as widgets\n",
    "from IPython.display import display\n",
    "from jupyter_ui_poll import ui_events\n",
    "from semantic_kernel import Kernel\n",
    "from semantic_kernel.contents import ChatHistory\n",
    "from semantic_kernel.connectors.ai.open_ai import OpenAIChatCompletion\n",
    "from semantic_kernel.core_plugins import ConversationSummaryPlugin\n",
    "\n",
    "\n",
    "# Chargement des variables d'environnement\n",
    "from dotenv import load_dotenv\n",
    "load_dotenv()\n",
    "\n",
    "# %% [markdown]\n",
    "# ## 2. Interface Utilisateur\n",
    "# - Zone de texte pour la description initiale\n",
    "# - Bouton de démarrage\n",
    "\n",
    "task_description = widgets.Textarea(\n",
    "    value=\"Je veux créer un planning infirmier...\",\n",
    "    layout={'width': '90%', 'height': '100px'},\n",
    "    description=\"Description:\"\n",
    ")\n",
    "\n",
    "start_btn = widgets.Button(\n",
    "    description=\"Démarrer la conversation\",\n",
    "    button_style='success',\n",
    "    icon='rocket'\n",
    ")\n",
    "\n",
    "display(task_description)\n",
    "display(start_btn)\n",
    "\n",
    "# %% [markdown]\n",
    "# ## 3. Paramètres de Planification\n",
    "# - Structure de données pour les paramètres\n",
    "# - Questions prédéfinies\n",
    "\n",
    "class SchedulingParameters:\n",
    "    def __init__(self):\n",
    "        self.num_nurses = None\n",
    "        self.num_days = None\n",
    "        self.shifts = ['Matin', 'Après-midi', 'Nuit']\n",
    "        self.constraints = {\n",
    "            'max_consecutive_days': 5,\n",
    "            'min_rest_days': 2\n",
    "        }\n",
    "\n",
    "required_params = [\n",
    "    (\"nombre d'infirmier(ère)s\", \"num_nurses\", int),\n",
    "    (\"nombre de jours à planifier\", \"num_days\", int),\n",
    "    (\"nombre maximum de jours consécutifs\", \"max_consecutive_days\", int),\n",
    "    (\"jours de repos minimum par semaine\", \"min_rest_days\", int)\n",
    "]\n",
    "\n",
    "# %% [markdown]\n",
    "# ## 4. Agent Conversationnel\n",
    "# - Initialisation du noyau Semantic Kernel\n",
    "# - Configuration du modèle OpenAI\n",
    "\n",
    "kernel = Kernel()\n",
    "service = OpenAIChatCompletion(\n",
    "    ai_model_id=\"gpt-4o\",\n",
    "    service_id=\"chat_completion\",  # Add explicit service ID\n",
    "    api_key=\"insert_key\",\n",
    ")\n",
    "kernel.add_service(service)\n",
    "\n",
    "\n",
    "async def generate_question(prompt):\n",
    "    # Utilisation du nouveau format d'appel\n",
    "    chat_history = ChatHistory()\n",
    "    chat_history.add_user_message(prompt)\n",
    "    \n",
    "    response = await service.get_chat_message_contents(\n",
    "        chat_history=chat_history,\n",
    "        settings=service.get_prompt_execution_settings()\n",
    "    )\n",
    "    \n",
    "    return str(response[0].content).strip('\"')\n",
    "\n",
    "async def collect_parameters():\n",
    "    params = SchedulingParameters()\n",
    "    \n",
    "    for param_text, param_name, param_type in required_params:\n",
    "        try:\n",
    "            # Generate question using LLM\n",
    "            question = await generate_question(\n",
    "                f\"Crée UNE SEULE question en français pour demander {param_text}. \"\n",
    "                f\"Exemple: 'Combien d'infirmières ?' \"\n",
    "                f\"Formule la question directement sans commentaires.\"\n",
    "            )\n",
    "            \n",
    "            # Clear previous input\n",
    "            input_box.value = ''\n",
    "            \n",
    "            # Display question\n",
    "            display(widgets.HTML(f\"<b>Assistant:</b> {question}\"))\n",
    "            \n",
    "            # Get user input\n",
    "            answer = await wait_for_user_input()\n",
    "            setattr(params, param_name, param_type(answer))\n",
    "            \n",
    "        except Exception as e:\n",
    "            display(widgets.HTML(f\"<div style='color: red'>Erreur: {str(e)}</div>\"))\n",
    "            raise\n",
    "    \n",
    "    return params\n",
    "\n",
    "# %% [markdown]\n",
    "# ## 5. Gestion des Entrées Utilisateur\n",
    "# - Mécanisme de capture des réponses\n",
    "\n",
    "input_box = widgets.Text(description=\"Votre réponse:\")\n",
    "input_received = False\n",
    "\n",
    "def on_submit(_):\n",
    "    global input_received\n",
    "    input_received = True\n",
    "\n",
    "input_box.on_submit(on_submit)\n",
    "\n",
    "async def wait_for_user_input():\n",
    "    global input_received\n",
    "    input_received = False\n",
    "    display(input_box)\n",
    "    \n",
    "    with ui_events() as poll:\n",
    "        while not input_received:\n",
    "            poll(10)\n",
    "            time.sleep(0.1)\n",
    "    \n",
    "    return input_box.value\n",
    "\n",
    "# %% [markdown]\n",
    "# ## 6. Intégration du Solveur\n",
    "# - Chargement du solver local\n",
    "# - Exécution du modèle CP-SAT\n",
    "\n",
    "from importlib.machinery import SourceFileLoader\n",
    "solver = SourceFileLoader(\"nurse_scheduler\", \"../src/nrp_or-tools.py\").load_module()\n",
    "\n",
    "def run_solver(params):\n",
    "    scheduler = solver.NurseScheduler()\n",
    "    return scheduler.generate_schedule(\n",
    "        num_nurses=params.num_nurses,\n",
    "        num_days=params.num_days,\n",
    "        constraints=params.constraints\n",
    "    )\n",
    "\n",
    "# %% [markdown]\n",
    "# ## 7. Flux Principal\n",
    "# - Orchestration complète\n",
    "\n",
    "\n",
    "async def main_flow():\n",
    "    try:\n",
    "        # Collecte initiale\n",
    "        display(widgets.HTML(\"<h3>Début de la configuration...</h3>\"))\n",
    "        params = await collect_parameters()\n",
    "        \n",
    "        # Exécution du solver\n",
    "        display(widgets.HTML(\"<h3>⏳ Calcul du planning...</h3>\"))\n",
    "        result = run_solver(params)\n",
    "        \n",
    "        # Affichage des résultats\n",
    "        display(widgets.HTML(\n",
    "            f\"<h3>📅 Planning Généré</h3>\"\n",
    "            f\"<pre>{result}</pre>\"\n",
    "        ))\n",
    "    except Exception as e:\n",
    "        display(widgets.HTML(f\"<div style='color: red'>Error: {str(e)}</div>\"))\n",
    "\n",
    "def start_conversation(_):\n",
    "    # Clear previous outputs\n",
    "    display(widgets.HTML(\"<div id='output-container'></div>\"))\n",
    "    \n",
    "    # Schedule async task properly\n",
    "    import asyncio\n",
    "    loop = asyncio.get_event_loop()\n",
    "    loop.create_task(main_flow())\n",
    "\n",
    "# Enable nested async in Jupyter\n",
    "nest_asyncio.apply()\n",
    "start_btn.on_click(start_conversation)\n"
   ]
  }
 ],
 "metadata": {
  "kernelspec": {
   "display_name": ".venv",
   "language": "python",
   "name": "python3"
  },
  "language_info": {
   "codemirror_mode": {
    "name": "ipython",
    "version": 3
   },
   "file_extension": ".py",
   "mimetype": "text/x-python",
   "name": "python",
   "nbconvert_exporter": "python",
   "pygments_lexer": "ipython3",
   "version": "3.10.12"
  }
 },
 "nbformat": 4,
 "nbformat_minor": 2
}
