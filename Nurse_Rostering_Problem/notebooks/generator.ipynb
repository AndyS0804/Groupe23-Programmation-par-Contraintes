{
 "cells": [
  {
   "cell_type": "code",
   "execution_count": 1,
   "metadata": {},
   "outputs": [
    {
     "name": "stdout",
     "output_type": "stream",
     "text": [
      "Note: you may need to restart the kernel to use updated packages.\n"
     ]
    },
    {
     "data": {
      "application/vnd.jupyter.widget-view+json": {
       "model_id": "d1e978a47d0146c79ff99666c7f3e582",
       "version_major": 2,
       "version_minor": 0
      },
      "text/plain": [
       "HTML(value='<h3>🔧 Configuration du Projet</h3>')"
      ]
     },
     "metadata": {},
     "output_type": "display_data"
    },
    {
     "data": {
      "application/vnd.jupyter.widget-view+json": {
       "model_id": "4440623bec934715949b5bb4e5f69943",
       "version_major": 2,
       "version_minor": 0
      },
      "text/plain": [
       "Tab(children=(VBox(children=(HTML(value='<i>Une tâche aléatoire sera générée</i>'),)), VBox(children=(Label(va…"
      ]
     },
     "metadata": {},
     "output_type": "display_data"
    },
    {
     "data": {
      "application/vnd.jupyter.widget-view+json": {
       "model_id": "c89ca6b3ab5c47518898b40c8f53f32c",
       "version_major": 2,
       "version_minor": 0
      },
      "text/plain": [
       "Button(button_style='success', description='Valider', icon='rocket', style=ButtonStyle())"
      ]
     },
     "metadata": {},
     "output_type": "display_data"
    },
    {
     "name": "stdout",
     "output_type": "stream",
     "text": [
      "En attente du clic sur Valider...\n"
     ]
    },
    {
     "ename": "KeyboardInterrupt",
     "evalue": "",
     "output_type": "error",
     "traceback": [
      "\u001b[0;31m---------------------------------------------------------------------------\u001b[0m",
      "\u001b[0;31mKeyboardInterrupt\u001b[0m                         Traceback (most recent call last)",
      "Cell \u001b[0;32mIn[1], line 100\u001b[0m\n\u001b[1;32m     98\u001b[0m     \u001b[38;5;28;01mwhile\u001b[39;00m \u001b[38;5;129;01mnot\u001b[39;00m config_ready:\n\u001b[1;32m     99\u001b[0m         poll(\u001b[38;5;241m10\u001b[39m)\n\u001b[0;32m--> 100\u001b[0m         \u001b[43mtime\u001b[49m\u001b[38;5;241;43m.\u001b[39;49m\u001b[43msleep\u001b[49m\u001b[43m(\u001b[49m\u001b[38;5;241;43m0.1\u001b[39;49m\u001b[43m)\u001b[49m\n\u001b[1;32m    102\u001b[0m \u001b[38;5;28mprint\u001b[39m(\u001b[38;5;124m\"\u001b[39m\u001b[38;5;124m✅ Config terminée, vous pouvez exécuter les cellules suivantes !\u001b[39m\u001b[38;5;124m\"\u001b[39m)\n",
      "\u001b[0;31mKeyboardInterrupt\u001b[0m: "
     ]
    }
   ],
   "source": [
    "# %% Configuration du projet - UI\n",
    "%pip install ipywidgets==8.1.5 jupyter-ui-poll==1.0.0 --quiet\n",
    "\n",
    "import time\n",
    "import random\n",
    "\n",
    "import ipywidgets as widgets\n",
    "from IPython.display import display\n",
    "from jupyter_ui_poll import ui_events\n",
    "\n",
    "# ---- Tâches prédéfinies proposées ----\n",
    "POSSIBLE_TASKS = [\n",
    "    \"Créer un notebook Python qui génère aléatoirement un DataFrame de ventes mensuelles (12 mois), affiche des graphiques d'évolution et exporte un rapport PDF.\",\n",
    "    \"Créer un notebook Python qui crée un dossier local avec quelques fichiers, puis compresse ce dossier en ZIP, et vérifie la taille et l'intégrité après décompression.\",\n",
    "    \"Créer un notebook Python qui implémente un mini jeu console (Snake ou Pong) en mode 'demo' et se termine après un certain nombre de 'ticks'.\",\n",
    "    \"Créer un notebook Python utilisant openpyxl (ou xlsxwriter) pour générer deux fichiers Excel puis les fusionner avec un résumé global.\",\n",
    "    \"Créer un notebook Python qui télécharge un flux RSS public (p.ex. CNN), stocke les titres dans un CSV, puis génère un nuage de mots (WordCloud).\",\n",
    "    \"Créer un notebook Python qui requête DBpedia (SPARQL) et affiche un graphique final (Plotly).\",\n",
    "    \"Créer un notebook Python qui charge le dataset Titanic depuis une URL, effectue une analyse basique et un court modèle de classification.\",\n",
    "    \"Construire un notebook scikit-learn sur le dataset IRIS et réaliser un court modèle de classification.\"\n",
    "]\n",
    "\n",
    "# ---- Widgets de configuration ----\n",
    "task_selector = widgets.Dropdown(\n",
    "    options=POSSIBLE_TASKS, \n",
    "    description='Tâche :', \n",
    "    style={'description_width': 'initial'}\n",
    ")\n",
    "custom_task = widgets.Textarea(\n",
    "    placeholder=\"Décrivez votre projet en détail...\", \n",
    "    layout={'width': '90%', 'height': '120px'}\n",
    ")\n",
    "uploader    = widgets.FileUpload(accept='.ipynb', multiple=False)\n",
    "submit_btn  = widgets.Button(description=\"Valider\", button_style='success', icon='rocket')\n",
    "\n",
    "tabs = widgets.Tab()\n",
    "tabs.children = [\n",
    "    widgets.VBox([widgets.HTML(\"<i>Une tâche aléatoire sera générée</i>\")]),\n",
    "    widgets.VBox([widgets.Label(\"Choisissez une tâche type :\"), task_selector]),\n",
    "    widgets.VBox([widgets.Label(\"Écrivez vos instructions :\"), custom_task]),\n",
    "    widgets.VBox([widgets.Label(\"Uploader votre notebook :\"), uploader])\n",
    "]\n",
    "tabs.set_title(0, '🎲 Aléatoire')\n",
    "tabs.set_title(1, '📚 Bibliothèque')\n",
    "tabs.set_title(2, '✨ Personnalisé')\n",
    "tabs.set_title(3, '📤 Importer')\n",
    "\n",
    "# ---- Stockage de la configuration ----\n",
    "config = {\n",
    "    'mode': None,\n",
    "    'task_description': None,\n",
    "    'uploaded_file': None\n",
    "}\n",
    "\n",
    "# Flag qui indique si la config est prête\n",
    "config_ready = False\n",
    "\n",
    "def on_submit(_):\n",
    "    \"\"\"Callback déclenché au clic du bouton.\"\"\"\n",
    "    global config_ready\n",
    "    try:\n",
    "        # Récupérer la sélection d'onglet pour choisir le mode\n",
    "        config['mode'] = tabs.selected_index\n",
    "        \n",
    "        # Si mode = \"Uploader\" (onglet 3)\n",
    "        if config['mode'] == 3:\n",
    "            if uploader.value:\n",
    "                config['uploaded_file'] = uploader.value[0]\n",
    "        else:\n",
    "            # Sinon on choisit la tâche\n",
    "            if config['mode'] == 0:\n",
    "                config['task_description'] = random.choice(POSSIBLE_TASKS)\n",
    "            elif config['mode'] == 1:\n",
    "                config['task_description'] = task_selector.value\n",
    "            elif config['mode'] == 2:\n",
    "                config['task_description'] = custom_task.value\n",
    "\n",
    "        submit_btn.disabled = True\n",
    "        print(\"Configuration validée !\")\n",
    "        \n",
    "    except Exception as e:\n",
    "        print(f\"Erreur pendant la configuration : {e}\")\n",
    "\n",
    "    # On met le flag True pour sortir de la boucle\n",
    "    config_ready = True\n",
    "\n",
    "submit_btn.on_click(on_submit)\n",
    "\n",
    "# ---- Affichage ----\n",
    "display(widgets.HTML(\"<h3>🔧 Configuration du Projet</h3>\"))\n",
    "display(tabs)\n",
    "display(submit_btn)\n",
    "\n",
    "# ---- Boucle bloquante synchrone ----\n",
    "print(\"En attente du clic sur Valider...\")\n",
    "\n",
    "with ui_events() as poll:\n",
    "    while not config_ready:\n",
    "        poll(10)\n",
    "        time.sleep(0.1)\n",
    "\n",
    "print(\"✅ Config terminée, vous pouvez exécuter les cellules suivantes !\")"
   ]
  }
 ],
 "metadata": {
  "kernelspec": {
   "display_name": "pr_venv",
   "language": "python",
   "name": "python3"
  },
  "language_info": {
   "codemirror_mode": {
    "name": "ipython",
    "version": 3
   },
   "file_extension": ".py",
   "mimetype": "text/x-python",
   "name": "python",
   "nbconvert_exporter": "python",
   "pygments_lexer": "ipython3",
   "version": "3.10.12"
  }
 },
 "nbformat": 4,
 "nbformat_minor": 2
}
