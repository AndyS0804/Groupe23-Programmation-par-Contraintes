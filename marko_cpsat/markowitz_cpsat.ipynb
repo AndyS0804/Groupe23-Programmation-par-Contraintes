{
 "cells": [
  {
   "cell_type": "markdown",
   "metadata": {},
   "source": [
    "Imports"
   ]
  },
  {
   "cell_type": "code",
   "execution_count": 8,
   "metadata": {},
   "outputs": [],
   "source": [
    "from datetime import datetime\n",
    "import numpy as np\n",
    "from ortools.sat.python import cp_model"
   ]
  },
  {
   "cell_type": "markdown",
   "metadata": {},
   "source": [
    "Adding the finance_utils function"
   ]
  },
  {
   "cell_type": "code",
   "execution_count": 9,
   "metadata": {},
   "outputs": [],
   "source": [
    "import yfinance as yf\n",
    "import pandas as pd\n",
    "\n",
    "def get_adj_close_from_stocks(stocks, start_date, end_date):\n",
    "    \"\"\"\n",
    "        Extract Adjusted Close from mentioned stocks on specific dates\n",
    "        Adj Close => Closing price adjusted \n",
    "                    for splits and dividend distributions\n",
    "    \"\"\"\n",
    "    adj_close_df = pd.DataFrame()\n",
    "    \n",
    "    for s in stocks:\n",
    "        data = yf.download(s, start=start_date, end=end_date, auto_adjust=False)\n",
    "        adj_close_df[s] = data['Adj Close']\n",
    "    \n",
    "    return adj_close_df"
   ]
  },
  {
   "cell_type": "markdown",
   "metadata": {},
   "source": [
    "Defining all test inputs"
   ]
  },
  {
   "cell_type": "code",
   "execution_count": 20,
   "metadata": {},
   "outputs": [],
   "source": [
    "stocks = ['AAPL', 'DSY.PA']\n",
    "start_date = datetime(2023, 1, 1)\n",
    "end_date = datetime(2024, 1, 1)\n",
    "bounds =[(0.25, 0.5), (0.25, 0.5)]\n",
    "risk_rate = 0.15\n",
    "SCALE = 100"
   ]
  },
  {
   "cell_type": "code",
   "execution_count": null,
   "metadata": {},
   "outputs": [],
   "source": [
    "def cpsat(\n",
    "    stocks: list,\n",
    "    start_date: datetime,\n",
    "    end_date: datetime,\n",
    "    bounds: list,\n",
    "    risk_rate: float\n",
    "):\n",
    "    \"\"\"\n",
    "    Function implementing the Markowitz Model using CP-SAT solver\n",
    "    \n",
    "    Args:\n",
    "        stocks: List of stock symbols\n",
    "        start_date: Start date for historical data\n",
    "        end_date: End date for historical data\n",
    "        bounds: List of tuples with (min_weight, max_weight) for each stock\n",
    "        risk_rate: Risk-free rate\n",
    "        \n",
    "    Returns:\n",
    "        optimized_weights: Array of optimized portfolio weights\n",
    "    \"\"\"\n",
    "    adj_close_df = get_adj_close_from_stocks(stocks, start_date, end_date)\n",
    "    \n",
    "    if adj_close_df.empty:\n",
    "        print(\n",
    "            f\"ERROR : Stocks {stocks} not found in given range \\n \\\n",
    "            with start date : {start_date} \\n and End date : {end_date} \"\n",
    "        )\n",
    "        return []\n",
    "\n",
    "    log_returns = np.log(adj_close_df / adj_close_df.shift(1))\n",
    "    log_returns = log_returns.dropna()\n",
    "\n",
    "    # Covariance matrix (on trading days)\n",
    "    cov_matrix = log_returns.cov() * 250.8875\n",
    "\n",
    "    model = cp_model.CpModel()\n",
    "\n",
    "    # Create integer variables for weights (scaled by SCALE)\n",
    "    weight_vars = []\n",
    "    for i in range(len(stocks)):\n",
    "        min_w = max(0, int(bounds[i][0] * SCALE))\n",
    "        max_w = min(SCALE, int(bounds[i][1] * SCALE))\n",
    "        weight_vars.append(model.new_int_var(min_w, max_w, f\"weight_{stocks[i]}\"))\n",
    "\n",
    "    # Create the constraints\n",
    "\n",
    "    # Sum of weights = 100%\n",
    "    model.add(sum(weight_vars) == SCALE)\n"
   ]
  },
  {
   "cell_type": "code",
   "execution_count": 19,
   "metadata": {},
   "outputs": [
    {
     "name": "stderr",
     "output_type": "stream",
     "text": [
      "[*********************100%***********************]  1 of 1 completed\n",
      "[*********************100%***********************]  1 of 1 completed"
     ]
    },
    {
     "name": "stdout",
     "output_type": "stream",
     "text": [
      "            AAPL    DSY.PA\n",
      "AAPL    0.039970  0.014112\n",
      "DSY.PA  0.014112  0.066324\n"
     ]
    },
    {
     "name": "stderr",
     "output_type": "stream",
     "text": [
      "\n"
     ]
    }
   ],
   "source": [
    "cpsat(stocks, start_date, end_date, bounds, risk_rate)"
   ]
  },
  {
   "cell_type": "code",
   "execution_count": null,
   "metadata": {},
   "outputs": [],
   "source": []
  }
 ],
 "metadata": {
  "kernelspec": {
   "display_name": "bigdata_kernel",
   "language": "python",
   "name": "bigdata_kernel"
  },
  "language_info": {
   "codemirror_mode": {
    "name": "ipython",
    "version": 3
   },
   "file_extension": ".py",
   "mimetype": "text/x-python",
   "name": "python",
   "nbconvert_exporter": "python",
   "pygments_lexer": "ipython3",
   "version": "3.12.3"
  }
 },
 "nbformat": 4,
 "nbformat_minor": 2
}
