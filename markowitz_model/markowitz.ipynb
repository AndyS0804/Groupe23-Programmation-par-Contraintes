{
 "cells": [
  {
   "cell_type": "markdown",
   "metadata": {},
   "source": [
    "# Markowitz Theorem\n",
    "\n",
    "This Notebook applies the Markowitz Theorem to solve a Portfolio Optimization Problem"
   ]
  },
  {
   "cell_type": "markdown",
   "metadata": {},
   "source": []
  },
  {
   "cell_type": "code",
   "execution_count": 111,
   "metadata": {},
   "outputs": [
    {
     "name": "stdout",
     "output_type": "stream",
     "text": [
      "Requirement already satisfied: yfinance in /opt/homebrew/lib/python3.11/site-packages (from -r ../requirements.txt (line 1)) (0.2.55)\n",
      "Requirement already satisfied: pandas in /opt/homebrew/lib/python3.11/site-packages (from -r ../requirements.txt (line 2)) (2.2.3)\n",
      "Requirement already satisfied: numpy in /opt/homebrew/lib/python3.11/site-packages (from -r ../requirements.txt (line 3)) (2.2.3)\n",
      "Requirement already satisfied: scipy in /opt/homebrew/lib/python3.11/site-packages (from -r ../requirements.txt (line 4)) (1.15.2)\n",
      "Requirement already satisfied: fredapi in /opt/homebrew/lib/python3.11/site-packages (from -r ../requirements.txt (line 5)) (0.5.2)\n",
      "Requirement already satisfied: matplotlib in /opt/homebrew/lib/python3.11/site-packages (from -r ../requirements.txt (line 6)) (3.10.1)\n",
      "Requirement already satisfied: streamlit in /opt/homebrew/lib/python3.11/site-packages (from -r ../requirements.txt (line 7)) (1.43.2)\n",
      "Requirement already satisfied: streamlit-extras in /opt/homebrew/lib/python3.11/site-packages (from -r ../requirements.txt (line 8)) (0.6.0)\n",
      "Collecting yahooquery (from -r ../requirements.txt (line 9))\n",
      "  Using cached yahooquery-2.3.7-py3-none-any.whl.metadata (5.0 kB)\n",
      "Requirement already satisfied: plotly in /opt/homebrew/lib/python3.11/site-packages (from -r ../requirements.txt (line 10)) (6.0.1)\n",
      "Requirement already satisfied: requests>=2.31 in /opt/homebrew/lib/python3.11/site-packages (from yfinance->-r ../requirements.txt (line 1)) (2.32.3)\n",
      "Requirement already satisfied: multitasking>=0.0.7 in /opt/homebrew/lib/python3.11/site-packages (from yfinance->-r ../requirements.txt (line 1)) (0.0.11)\n",
      "Requirement already satisfied: platformdirs>=2.0.0 in /Users/maxboc/Library/Python/3.11/lib/python/site-packages (from yfinance->-r ../requirements.txt (line 1)) (4.3.6)\n",
      "Requirement already satisfied: pytz>=2022.5 in /opt/homebrew/lib/python3.11/site-packages (from yfinance->-r ../requirements.txt (line 1)) (2025.1)\n",
      "Requirement already satisfied: frozendict>=2.3.4 in /opt/homebrew/lib/python3.11/site-packages (from yfinance->-r ../requirements.txt (line 1)) (2.4.6)\n",
      "Requirement already satisfied: peewee>=3.16.2 in /opt/homebrew/lib/python3.11/site-packages (from yfinance->-r ../requirements.txt (line 1)) (3.17.9)\n",
      "Requirement already satisfied: beautifulsoup4>=4.11.1 in /opt/homebrew/lib/python3.11/site-packages (from yfinance->-r ../requirements.txt (line 1)) (4.13.3)\n",
      "Requirement already satisfied: python-dateutil>=2.8.2 in /Users/maxboc/Library/Python/3.11/lib/python/site-packages (from pandas->-r ../requirements.txt (line 2)) (2.9.0.post0)\n",
      "Requirement already satisfied: tzdata>=2022.7 in /opt/homebrew/lib/python3.11/site-packages (from pandas->-r ../requirements.txt (line 2)) (2025.1)\n",
      "Requirement already satisfied: contourpy>=1.0.1 in /opt/homebrew/lib/python3.11/site-packages (from matplotlib->-r ../requirements.txt (line 6)) (1.3.1)\n",
      "Requirement already satisfied: cycler>=0.10 in /opt/homebrew/lib/python3.11/site-packages (from matplotlib->-r ../requirements.txt (line 6)) (0.12.1)\n",
      "Requirement already satisfied: fonttools>=4.22.0 in /opt/homebrew/lib/python3.11/site-packages (from matplotlib->-r ../requirements.txt (line 6)) (4.56.0)\n",
      "Requirement already satisfied: kiwisolver>=1.3.1 in /opt/homebrew/lib/python3.11/site-packages (from matplotlib->-r ../requirements.txt (line 6)) (1.4.8)\n",
      "Requirement already satisfied: packaging>=20.0 in /Users/maxboc/Library/Python/3.11/lib/python/site-packages (from matplotlib->-r ../requirements.txt (line 6)) (24.2)\n",
      "Requirement already satisfied: pillow>=8 in /opt/homebrew/lib/python3.11/site-packages (from matplotlib->-r ../requirements.txt (line 6)) (11.1.0)\n",
      "Requirement already satisfied: pyparsing>=2.3.1 in /opt/homebrew/lib/python3.11/site-packages (from matplotlib->-r ../requirements.txt (line 6)) (3.2.1)\n",
      "Requirement already satisfied: altair<6,>=4.0 in /opt/homebrew/lib/python3.11/site-packages (from streamlit->-r ../requirements.txt (line 7)) (5.5.0)\n",
      "Requirement already satisfied: blinker<2,>=1.0.0 in /opt/homebrew/lib/python3.11/site-packages (from streamlit->-r ../requirements.txt (line 7)) (1.9.0)\n",
      "Requirement already satisfied: cachetools<6,>=4.0 in /opt/homebrew/lib/python3.11/site-packages (from streamlit->-r ../requirements.txt (line 7)) (5.5.2)\n",
      "Requirement already satisfied: click<9,>=7.0 in /opt/homebrew/lib/python3.11/site-packages (from streamlit->-r ../requirements.txt (line 7)) (8.1.8)\n",
      "Requirement already satisfied: protobuf<6,>=3.20 in /opt/homebrew/lib/python3.11/site-packages (from streamlit->-r ../requirements.txt (line 7)) (5.29.4)\n",
      "Requirement already satisfied: pyarrow>=7.0 in /opt/homebrew/lib/python3.11/site-packages (from streamlit->-r ../requirements.txt (line 7)) (19.0.1)\n",
      "Requirement already satisfied: tenacity<10,>=8.1.0 in /opt/homebrew/lib/python3.11/site-packages (from streamlit->-r ../requirements.txt (line 7)) (9.0.0)\n",
      "Requirement already satisfied: toml<2,>=0.10.1 in /opt/homebrew/lib/python3.11/site-packages (from streamlit->-r ../requirements.txt (line 7)) (0.10.2)\n",
      "Requirement already satisfied: typing-extensions<5,>=4.4.0 in /Users/maxboc/Library/Python/3.11/lib/python/site-packages (from streamlit->-r ../requirements.txt (line 7)) (4.12.2)\n",
      "Requirement already satisfied: gitpython!=3.1.19,<4,>=3.0.7 in /opt/homebrew/lib/python3.11/site-packages (from streamlit->-r ../requirements.txt (line 7)) (3.1.44)\n",
      "Requirement already satisfied: pydeck<1,>=0.8.0b4 in /opt/homebrew/lib/python3.11/site-packages (from streamlit->-r ../requirements.txt (line 7)) (0.9.1)\n",
      "Requirement already satisfied: tornado<7,>=6.0.3 in /Users/maxboc/Library/Python/3.11/lib/python/site-packages (from streamlit->-r ../requirements.txt (line 7)) (6.4.2)\n",
      "Requirement already satisfied: entrypoints>=0.4 in /opt/homebrew/lib/python3.11/site-packages (from streamlit-extras->-r ../requirements.txt (line 8)) (0.4)\n",
      "Requirement already satisfied: htbuilder>=0.6.2 in /opt/homebrew/lib/python3.11/site-packages (from streamlit-extras->-r ../requirements.txt (line 8)) (0.9.0)\n",
      "Requirement already satisfied: markdownlit>=0.0.5 in /opt/homebrew/lib/python3.11/site-packages (from streamlit-extras->-r ../requirements.txt (line 8)) (0.0.7)\n",
      "Requirement already satisfied: prometheus-client>=0.14.0 in /opt/homebrew/lib/python3.11/site-packages (from streamlit-extras->-r ../requirements.txt (line 8)) (0.21.1)\n",
      "Requirement already satisfied: st-annotated-text>=3.0.0 in /opt/homebrew/lib/python3.11/site-packages (from streamlit-extras->-r ../requirements.txt (line 8)) (4.0.2)\n",
      "Requirement already satisfied: st-theme>=1.0.1 in /opt/homebrew/lib/python3.11/site-packages (from streamlit-extras->-r ../requirements.txt (line 8)) (1.2.3)\n",
      "Requirement already satisfied: streamlit-avatar>=0.1.3 in /opt/homebrew/lib/python3.11/site-packages (from streamlit-extras->-r ../requirements.txt (line 8)) (0.1.3)\n",
      "Requirement already satisfied: streamlit-camera-input-live>=0.2.0 in /opt/homebrew/lib/python3.11/site-packages (from streamlit-extras->-r ../requirements.txt (line 8)) (0.2.0)\n",
      "Requirement already satisfied: streamlit-card>=0.0.4 in /opt/homebrew/lib/python3.11/site-packages (from streamlit-extras->-r ../requirements.txt (line 8)) (1.0.2)\n",
      "Requirement already satisfied: streamlit-embedcode>=0.1.2 in /opt/homebrew/lib/python3.11/site-packages (from streamlit-extras->-r ../requirements.txt (line 8)) (0.1.2)\n",
      "Requirement already satisfied: streamlit-faker>=0.0.2 in /opt/homebrew/lib/python3.11/site-packages (from streamlit-extras->-r ../requirements.txt (line 8)) (0.0.3)\n",
      "Requirement already satisfied: streamlit-image-coordinates<0.2.0,>=0.1.1 in /opt/homebrew/lib/python3.11/site-packages (from streamlit-extras->-r ../requirements.txt (line 8)) (0.1.9)\n",
      "Requirement already satisfied: streamlit-keyup>=0.1.9 in /opt/homebrew/lib/python3.11/site-packages (from streamlit-extras->-r ../requirements.txt (line 8)) (0.3.0)\n",
      "Requirement already satisfied: streamlit-toggle-switch>=1.0.2 in /opt/homebrew/lib/python3.11/site-packages (from streamlit-extras->-r ../requirements.txt (line 8)) (1.0.2)\n",
      "Requirement already satisfied: streamlit-vertical-slider>=2.5.5 in /opt/homebrew/lib/python3.11/site-packages (from streamlit-extras->-r ../requirements.txt (line 8)) (2.5.5)\n",
      "Requirement already satisfied: validators>=0.20.0 in /opt/homebrew/lib/python3.11/site-packages (from streamlit-extras->-r ../requirements.txt (line 8)) (0.34.0)\n",
      "Collecting lxml<5.0.0,>=4.9.3 (from yahooquery->-r ../requirements.txt (line 9))\n",
      "  Downloading lxml-4.9.4-cp311-cp311-macosx_11_0_universal2.whl.metadata (3.7 kB)\n",
      "Collecting requests-futures<2.0.0,>=1.0.1 (from yahooquery->-r ../requirements.txt (line 9))\n",
      "  Using cached requests_futures-1.0.2-py2.py3-none-any.whl.metadata (12 kB)\n",
      "Collecting tqdm<5.0.0,>=4.65.0 (from yahooquery->-r ../requirements.txt (line 9))\n",
      "  Using cached tqdm-4.67.1-py3-none-any.whl.metadata (57 kB)\n",
      "Requirement already satisfied: narwhals>=1.15.1 in /opt/homebrew/lib/python3.11/site-packages (from plotly->-r ../requirements.txt (line 10)) (1.31.0)\n",
      "Requirement already satisfied: jinja2 in /opt/homebrew/lib/python3.11/site-packages (from altair<6,>=4.0->streamlit->-r ../requirements.txt (line 7)) (3.1.6)\n",
      "Requirement already satisfied: jsonschema>=3.0 in /opt/homebrew/lib/python3.11/site-packages (from altair<6,>=4.0->streamlit->-r ../requirements.txt (line 7)) (4.23.0)\n",
      "Requirement already satisfied: soupsieve>1.2 in /opt/homebrew/lib/python3.11/site-packages (from beautifulsoup4>=4.11.1->yfinance->-r ../requirements.txt (line 1)) (2.6)\n",
      "Requirement already satisfied: gitdb<5,>=4.0.1 in /opt/homebrew/lib/python3.11/site-packages (from gitpython!=3.1.19,<4,>=3.0.7->streamlit->-r ../requirements.txt (line 7)) (4.0.12)\n",
      "Requirement already satisfied: markdown in /opt/homebrew/lib/python3.11/site-packages (from markdownlit>=0.0.5->streamlit-extras->-r ../requirements.txt (line 8)) (3.7)\n",
      "Requirement already satisfied: favicon in /opt/homebrew/lib/python3.11/site-packages (from markdownlit>=0.0.5->streamlit-extras->-r ../requirements.txt (line 8)) (0.7.0)\n",
      "Requirement already satisfied: pymdown-extensions in /opt/homebrew/lib/python3.11/site-packages (from markdownlit>=0.0.5->streamlit-extras->-r ../requirements.txt (line 8)) (10.14.3)\n",
      "Requirement already satisfied: six>=1.5 in /Users/maxboc/Library/Python/3.11/lib/python/site-packages (from python-dateutil>=2.8.2->pandas->-r ../requirements.txt (line 2)) (1.17.0)\n",
      "Requirement already satisfied: charset-normalizer<4,>=2 in /opt/homebrew/lib/python3.11/site-packages (from requests>=2.31->yfinance->-r ../requirements.txt (line 1)) (3.4.1)\n",
      "Requirement already satisfied: idna<4,>=2.5 in /opt/homebrew/lib/python3.11/site-packages (from requests>=2.31->yfinance->-r ../requirements.txt (line 1)) (3.10)\n",
      "Requirement already satisfied: urllib3<3,>=1.21.1 in /opt/homebrew/lib/python3.11/site-packages (from requests>=2.31->yfinance->-r ../requirements.txt (line 1)) (2.3.0)\n",
      "Requirement already satisfied: certifi>=2017.4.17 in /opt/homebrew/lib/python3.11/site-packages (from requests>=2.31->yfinance->-r ../requirements.txt (line 1)) (2024.8.30)\n",
      "Requirement already satisfied: faker in /opt/homebrew/lib/python3.11/site-packages (from streamlit-faker>=0.0.2->streamlit-extras->-r ../requirements.txt (line 8)) (37.0.2)\n",
      "Requirement already satisfied: smmap<6,>=3.0.1 in /opt/homebrew/lib/python3.11/site-packages (from gitdb<5,>=4.0.1->gitpython!=3.1.19,<4,>=3.0.7->streamlit->-r ../requirements.txt (line 7)) (5.0.2)\n",
      "Requirement already satisfied: MarkupSafe>=2.0 in /opt/homebrew/lib/python3.11/site-packages (from jinja2->altair<6,>=4.0->streamlit->-r ../requirements.txt (line 7)) (3.0.2)\n",
      "Requirement already satisfied: attrs>=22.2.0 in /opt/homebrew/lib/python3.11/site-packages (from jsonschema>=3.0->altair<6,>=4.0->streamlit->-r ../requirements.txt (line 7)) (25.3.0)\n",
      "Requirement already satisfied: jsonschema-specifications>=2023.03.6 in /opt/homebrew/lib/python3.11/site-packages (from jsonschema>=3.0->altair<6,>=4.0->streamlit->-r ../requirements.txt (line 7)) (2024.10.1)\n",
      "Requirement already satisfied: referencing>=0.28.4 in /opt/homebrew/lib/python3.11/site-packages (from jsonschema>=3.0->altair<6,>=4.0->streamlit->-r ../requirements.txt (line 7)) (0.36.2)\n",
      "Requirement already satisfied: rpds-py>=0.7.1 in /opt/homebrew/lib/python3.11/site-packages (from jsonschema>=3.0->altair<6,>=4.0->streamlit->-r ../requirements.txt (line 7)) (0.23.1)\n",
      "Requirement already satisfied: pyyaml in /opt/homebrew/lib/python3.11/site-packages (from pymdown-extensions->markdownlit>=0.0.5->streamlit-extras->-r ../requirements.txt (line 8)) (6.0.2)\n",
      "Using cached yahooquery-2.3.7-py3-none-any.whl (52 kB)\n",
      "Downloading lxml-4.9.4-cp311-cp311-macosx_11_0_universal2.whl (8.6 MB)\n",
      "\u001b[2K   \u001b[90m━━━━━━━━━━━━━━━━━━━━━━━━━━━━━\u001b[0m\u001b[90m━━━━━\u001b[0m \u001b[32m0.0/8.6 MB\u001b[0m \u001b[31m?\u001b[0m eta \u001b[36m-:--:--\u001b[0m━━━━━━━━━━━━━━━━━\u001b[0m \u001b[32m4.2/8.6 MB\u001b[0m \u001b[31m24.1 MB/s\u001b[0m eta \u001b[36m0:00:01\u001b[0m━━━━━━━━━━━\u001b[0m \u001b[32m8.6/8.6 MB\u001b[0m \u001b[31m23.8 MB/s\u001b[0m eta \u001b[36m0:00:00\u001b[0m\n",
      "\u001b[?25hUsing cached requests_futures-1.0.2-py2.py3-none-any.whl (7.7 kB)\n",
      "Using cached tqdm-4.67.1-py3-none-any.whl (78 kB)\n",
      "Installing collected packages: tqdm, lxml, requests-futures, yahooquery\n",
      "  Attempting uninstall: lxml\n",
      "    Found existing installation: lxml 5.3.1\n",
      "    Uninstalling lxml-5.3.1:\n",
      "      Successfully uninstalled lxml-5.3.1\n",
      "Successfully installed lxml-4.9.4 requests-futures-1.0.2 tqdm-4.67.1 yahooquery-2.3.7\n"
     ]
    }
   ],
   "source": [
    "%%bash\n",
    "pip install -r ../requirements.txt"
   ]
  },
  {
   "cell_type": "code",
   "execution_count": 112,
   "metadata": {},
   "outputs": [],
   "source": [
    "import yfinance as yf\n",
    "from datetime import datetime, timedelta\n",
    "import pandas as pd\n",
    "import numpy as np\n",
    "from scipy.optimize import minimize\n",
    "from fredapi import Fred\n",
    "import matplotlib.pyplot as plt"
   ]
  },
  {
   "cell_type": "markdown",
   "metadata": {},
   "source": [
    "We define the parameters as the stocks, the end and start date"
   ]
  },
  {
   "cell_type": "code",
   "execution_count": 113,
   "metadata": {},
   "outputs": [],
   "source": [
    "stocks = ['SPY','BND','GLD','QQQ','VTI']\n",
    "end_date = datetime.today()\n",
    "start_date = end_date - timedelta(days = 100*365)"
   ]
  },
  {
   "cell_type": "code",
   "execution_count": 114,
   "metadata": {},
   "outputs": [
    {
     "name": "stderr",
     "output_type": "stream",
     "text": [
      "[*********************100%***********************]  1 of 1 completed\n",
      "[*********************100%***********************]  1 of 1 completed\n",
      "[*********************100%***********************]  1 of 1 completed\n",
      "[*********************100%***********************]  1 of 1 completed\n",
      "[*********************100%***********************]  1 of 1 completed\n"
     ]
    },
    {
     "data": {
      "text/html": [
       "<div>\n",
       "<style scoped>\n",
       "    .dataframe tbody tr th:only-of-type {\n",
       "        vertical-align: middle;\n",
       "    }\n",
       "\n",
       "    .dataframe tbody tr th {\n",
       "        vertical-align: top;\n",
       "    }\n",
       "\n",
       "    .dataframe thead tr th {\n",
       "        text-align: left;\n",
       "    }\n",
       "\n",
       "    .dataframe thead tr:last-of-type th {\n",
       "        text-align: right;\n",
       "    }\n",
       "</style>\n",
       "<table border=\"1\" class=\"dataframe\">\n",
       "  <thead>\n",
       "    <tr>\n",
       "      <th>Price</th>\n",
       "      <th>Adj Close</th>\n",
       "      <th>Close</th>\n",
       "      <th>High</th>\n",
       "      <th>Low</th>\n",
       "      <th>Open</th>\n",
       "      <th>Volume</th>\n",
       "    </tr>\n",
       "    <tr>\n",
       "      <th>Ticker</th>\n",
       "      <th>VTI</th>\n",
       "      <th>VTI</th>\n",
       "      <th>VTI</th>\n",
       "      <th>VTI</th>\n",
       "      <th>VTI</th>\n",
       "      <th>VTI</th>\n",
       "    </tr>\n",
       "    <tr>\n",
       "      <th>Date</th>\n",
       "      <th></th>\n",
       "      <th></th>\n",
       "      <th></th>\n",
       "      <th></th>\n",
       "      <th></th>\n",
       "      <th></th>\n",
       "    </tr>\n",
       "  </thead>\n",
       "  <tbody>\n",
       "    <tr>\n",
       "      <th>2001-06-15</th>\n",
       "      <td>36.467434</td>\n",
       "      <td>55.665001</td>\n",
       "      <td>56.005001</td>\n",
       "      <td>55.174999</td>\n",
       "      <td>55.424999</td>\n",
       "      <td>1067400</td>\n",
       "    </tr>\n",
       "    <tr>\n",
       "      <th>2001-06-18</th>\n",
       "      <td>36.234882</td>\n",
       "      <td>55.310001</td>\n",
       "      <td>55.915001</td>\n",
       "      <td>55.310001</td>\n",
       "      <td>55.814999</td>\n",
       "      <td>282600</td>\n",
       "    </tr>\n",
       "    <tr>\n",
       "      <th>2001-06-19</th>\n",
       "      <td>36.336411</td>\n",
       "      <td>55.465000</td>\n",
       "      <td>56.165001</td>\n",
       "      <td>55.235001</td>\n",
       "      <td>56.150002</td>\n",
       "      <td>1777600</td>\n",
       "    </tr>\n",
       "    <tr>\n",
       "      <th>2001-06-20</th>\n",
       "      <td>36.719662</td>\n",
       "      <td>56.049999</td>\n",
       "      <td>56.075001</td>\n",
       "      <td>55.375000</td>\n",
       "      <td>55.375000</td>\n",
       "      <td>476000</td>\n",
       "    </tr>\n",
       "    <tr>\n",
       "      <th>2001-06-21</th>\n",
       "      <td>37.014469</td>\n",
       "      <td>56.500000</td>\n",
       "      <td>56.724998</td>\n",
       "      <td>55.875000</td>\n",
       "      <td>56.000000</td>\n",
       "      <td>240400</td>\n",
       "    </tr>\n",
       "  </tbody>\n",
       "</table>\n",
       "</div>"
      ],
      "text/plain": [
       "Price       Adj Close      Close       High        Low       Open   Volume\n",
       "Ticker            VTI        VTI        VTI        VTI        VTI      VTI\n",
       "Date                                                                      \n",
       "2001-06-15  36.467434  55.665001  56.005001  55.174999  55.424999  1067400\n",
       "2001-06-18  36.234882  55.310001  55.915001  55.310001  55.814999   282600\n",
       "2001-06-19  36.336411  55.465000  56.165001  55.235001  56.150002  1777600\n",
       "2001-06-20  36.719662  56.049999  56.075001  55.375000  55.375000   476000\n",
       "2001-06-21  37.014469  56.500000  56.724998  55.875000  56.000000   240400"
      ]
     },
     "execution_count": 114,
     "metadata": {},
     "output_type": "execute_result"
    }
   ],
   "source": [
    "adj_close_df = pd.DataFrame()\n",
    "\n",
    "for s in stocks:\n",
    "    data = yf.download(s, start=start_date, end=end_date, auto_adjust=False)\n",
    "    adj_close_df[s] = data['Adj Close']\n",
    "data.head()"
   ]
  },
  {
   "cell_type": "code",
   "execution_count": 115,
   "metadata": {},
   "outputs": [],
   "source": [
    "log_returns = np.log(adj_close_df / adj_close_df.shift(1))\n",
    "log_returns = log_returns.dropna()"
   ]
  },
  {
   "cell_type": "code",
   "execution_count": 116,
   "metadata": {},
   "outputs": [],
   "source": [
    "# 252 represents the number of trading days\n",
    "\n",
    "cov_matrix = log_returns.cov() * 252"
   ]
  },
  {
   "cell_type": "code",
   "execution_count": 117,
   "metadata": {},
   "outputs": [],
   "source": [
    "def standard_deviation(weights, cov_matrix):\n",
    "    variance = weights.T @ cov_matrix @ weights\n",
    "    return np.sqrt(variance)\n",
    "\n",
    "def expected_return(weights, log_returns):\n",
    "    return np.sum(log_returns.mean() * weights) * 252\n",
    "\n",
    "def sharpe_ratio(weights, log_returns, cov_matrix, risk_free_rate):\n",
    "\tp_return = expected_return(weights, log_returns) - risk_free_rate\n",
    "\treturn p_return / standard_deviation(weights, cov_matrix)\n",
    "\n",
    "def negative_sharpe_ratio(weights, log_returns, cov_matrix, risk_free_rate):\n",
    "    return -sharpe_ratio(weights, log_returns, cov_matrix, risk_free_rate)"
   ]
  },
  {
   "cell_type": "code",
   "execution_count": 118,
   "metadata": {},
   "outputs": [],
   "source": [
    "cov_matrix = log_returns.cov() * 252"
   ]
  },
  {
   "cell_type": "markdown",
   "metadata": {},
   "source": [
    "Portofolio optimization"
   ]
  },
  {
   "cell_type": "code",
   "execution_count": 119,
   "metadata": {},
   "outputs": [],
   "source": [
    "# risk_free_rate = 0.02\n",
    "\n",
    "fred = Fred(api_key=\"e9048dc2c26dae67bc75a443cd644ce3\")\n",
    "ten_year_treasury_rate = fred.get_series_latest_release('GS10') / 100\n",
    "\n",
    "risk_free_rate = ten_year_treasury_rate.iloc[-1]\n"
   ]
  },
  {
   "cell_type": "code",
   "execution_count": 120,
   "metadata": {},
   "outputs": [],
   "source": [
    "constraints = {'type':'eq', 'fun': lambda weights : np.sum(weights) - 1}\n",
    "bounds = [(0, 0.5) for _ in range (len(stocks))]"
   ]
  },
  {
   "cell_type": "code",
   "execution_count": 121,
   "metadata": {},
   "outputs": [],
   "source": [
    "initial_weights = np.array([1/len(stocks)] * len(stocks))\n",
    "\n",
    "optimized_results = minimize(negative_sharpe_ratio, initial_weights, \n",
    "                            args=(log_returns, cov_matrix, risk_free_rate),\n",
    "                            method='SLSQP', constraints=constraints, bounds=bounds)"
   ]
  },
  {
   "cell_type": "code",
   "execution_count": 122,
   "metadata": {},
   "outputs": [
    {
     "name": "stdout",
     "output_type": "stream",
     "text": [
      "Optimal Weights:\n",
      "SPY: 0.0000\n",
      "BND: 0.0000\n",
      "GLD: 0.5000\n",
      "QQQ: 0.5000\n",
      "VTI: 0.0000\n",
      "Expected Annual Return: 0.1100\n",
      "Expected Volatility: 0.1438\n",
      "Sharpe Ratio: 0.4557\n"
     ]
    }
   ],
   "source": [
    "optimal_weights = optimized_results.x\n",
    "\n",
    "print(\"Optimal Weights:\")\n",
    "for ticker, weight in zip(stocks, optimal_weights):\n",
    "    print(f\"{ticker}: {weight:.4f}\")\n",
    "\n",
    "optimal_portfolio_return = expected_return(optimal_weights, log_returns)\n",
    "optimal_portfolio_volatility = standard_deviation(optimal_weights, cov_matrix)\n",
    "optimal_sharpe_ratio = sharpe_ratio(optimal_weights, log_returns, cov_matrix, risk_free_rate)\n",
    "\n",
    "print(f\"Expected Annual Return: {optimal_portfolio_return:.4f}\")\n",
    "print(f\"Expected Volatility: {optimal_portfolio_volatility:.4f}\")\n",
    "print(f\"Sharpe Ratio: {optimal_sharpe_ratio:.4f}\")"
   ]
  },
  {
   "cell_type": "code",
   "execution_count": 123,
   "metadata": {},
   "outputs": [
    {
     "data": {
      "image/png": "[encoded data removed]",
      "text/plain": [
       "<Figure size 1000x600 with 1 Axes>"
      ]
     },
     "metadata": {},
     "output_type": "display_data"
    }
   ],
   "source": [
    "plt.figure(figsize=(10, 6))\n",
    "plt.bar(stocks, optimal_weights)\n",
    "\n",
    "plt.xlabel('Assets')\n",
    "plt.ylabel('Optimal Weights')\n",
    "plt.title('Optimal Portfolio Weights')\n",
    "\n",
    "plt.show()"
   ]
  }
 ],
 "metadata": {
  "kernelspec": {
   "display_name": "Python 3",
   "language": "python",
   "name": "python3"
  },
  "language_info": {
   "codemirror_mode": {
    "name": "ipython",
    "version": 3
   },
   "file_extension": ".py",
   "mimetype": "text/x-python",
   "name": "python",
   "nbconvert_exporter": "python",
   "pygments_lexer": "ipython3",
   "version": "3.11.10"
  }
 },
 "nbformat": 4,
 "nbformat_minor": 2
}
