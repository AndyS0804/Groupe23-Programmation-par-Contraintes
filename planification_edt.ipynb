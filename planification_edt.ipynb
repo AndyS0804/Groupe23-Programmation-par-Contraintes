{
 "cells": [
  {
   "metadata": {},
   "cell_type": "markdown",
   "source": [
    "# Planification d'Emplois du Temps Universitaires\n",
    "\n",
    "## Introduction\n",
    "\n",
    "Ce projet vise à appliquer les méthodes de programmation par contraintes (CSP) pour résoudre le problème de la planification des emplois du temps universitaires. Nous utiliserons un solveur CSP pour générer des emplois du temps valides en tenant compte de diverses contraintes.\n",
    "\n",
    "## Modélisation du Problème\n",
    "\n",
    "### Variables\n",
    "- Créneaux horaires\n",
    "- Salles\n",
    "- Cours/Examens\n",
    "- Enseignants\n",
    "\n",
    "### Contraintes\n",
    "- Exclusion mutuelle\n",
    "- Capacité des salles\n",
    "- Disponibilité des enseignants\n",
    "- Préférences\n",
    "\n",
    "## Implémentation avec un Solveur CSP\n",
    "\n",
    "### Choix du Solveur\n",
    "- MiniZinc ou OR-Tools\n",
    "\n",
    "### Installation et Configuration"
   ],
   "id": "72879b9ba9d6e154"
  },
  {
   "metadata": {
    "ExecuteTime": {
     "end_time": "2025-03-16T10:44:23.223797Z",
     "start_time": "2025-03-16T10:43:59.215469Z"
    }
   },
   "cell_type": "code",
   "source": [
    "# Exemple d'installation du solveur\n",
    "!pip install ortools"
   ],
   "id": "422af1d2ea291d9d",
   "outputs": [
    {
     "name": "stdout",
     "output_type": "stream",
     "text": [
      "Collecting ortools\r\n",
      "  Obtaining dependency information for ortools from https://files.pythonhosted.org/packages/41/df/18e3fbb6082e1c0367595aa4e482c464c189e4bf8a8ca7adf86e402d2c96/ortools-9.12.4544-cp39-cp39-macosx_11_0_arm64.whl.metadata\r\n",
      "  Downloading ortools-9.12.4544-cp39-cp39-macosx_11_0_arm64.whl.metadata (3.1 kB)\r\n",
      "Collecting absl-py>=2.0.0 (from ortools)\r\n",
      "  Obtaining dependency information for absl-py>=2.0.0 from https://files.pythonhosted.org/packages/a2/ad/e0d3c824784ff121c03cc031f944bc7e139a8f1870ffd2845cc2dd76f6c4/absl_py-2.1.0-py3-none-any.whl.metadata\r\n",
      "  Downloading absl_py-2.1.0-py3-none-any.whl.metadata (2.3 kB)\r\n",
      "Collecting numpy>=1.13.3 (from ortools)\r\n",
      "  Obtaining dependency information for numpy>=1.13.3 from https://files.pythonhosted.org/packages/96/ff/06d1aa3eeb1c614eda245c1ba4fb88c483bee6520d361641331872ac4b82/numpy-2.0.2-cp39-cp39-macosx_14_0_arm64.whl.metadata\r\n",
      "  Using cached numpy-2.0.2-cp39-cp39-macosx_14_0_arm64.whl.metadata (60 kB)\r\n",
      "Collecting pandas>=2.0.0 (from ortools)\r\n",
      "  Obtaining dependency information for pandas>=2.0.0 from https://files.pythonhosted.org/packages/9c/b9/5cead4f63b6d31bdefeb21a679bc5a7f4aaf262ca7e07e2bc1c341b68470/pandas-2.2.3-cp39-cp39-macosx_11_0_arm64.whl.metadata\r\n",
      "  Using cached pandas-2.2.3-cp39-cp39-macosx_11_0_arm64.whl.metadata (89 kB)\r\n",
      "Collecting protobuf<5.30,>=5.29.3 (from ortools)\r\n",
      "  Obtaining dependency information for protobuf<5.30,>=5.29.3 from https://files.pythonhosted.org/packages/dd/04/3eaedc2ba17a088961d0e3bd396eac764450f431621b58a04ce898acd126/protobuf-5.29.3-cp38-abi3-macosx_10_9_universal2.whl.metadata\r\n",
      "  Using cached protobuf-5.29.3-cp38-abi3-macosx_10_9_universal2.whl.metadata (592 bytes)\r\n",
      "Collecting immutabledict>=3.0.0 (from ortools)\r\n",
      "  Obtaining dependency information for immutabledict>=3.0.0 from https://files.pythonhosted.org/packages/59/56/25ca7b848164b7d93dbd5fc97dd7751700c93e324fe854afbeb562ee2f98/immutabledict-4.2.1-py3-none-any.whl.metadata\r\n",
      "  Downloading immutabledict-4.2.1-py3-none-any.whl.metadata (3.5 kB)\r\n",
      "Requirement already satisfied: python-dateutil>=2.8.2 in ./.prconvenv/lib/python3.9/site-packages (from pandas>=2.0.0->ortools) (2.9.0.post0)\r\n",
      "Collecting pytz>=2020.1 (from pandas>=2.0.0->ortools)\r\n",
      "  Obtaining dependency information for pytz>=2020.1 from https://files.pythonhosted.org/packages/eb/38/ac33370d784287baa1c3d538978b5e2ea064d4c1b93ffbd12826c190dd10/pytz-2025.1-py2.py3-none-any.whl.metadata\r\n",
      "  Using cached pytz-2025.1-py2.py3-none-any.whl.metadata (22 kB)\r\n",
      "Collecting tzdata>=2022.7 (from pandas>=2.0.0->ortools)\r\n",
      "  Obtaining dependency information for tzdata>=2022.7 from https://files.pythonhosted.org/packages/0f/dd/84f10e23edd882c6f968c21c2434fe67bd4a528967067515feca9e611e5e/tzdata-2025.1-py2.py3-none-any.whl.metadata\r\n",
      "  Using cached tzdata-2025.1-py2.py3-none-any.whl.metadata (1.4 kB)\r\n",
      "Requirement already satisfied: six>=1.5 in ./.prconvenv/lib/python3.9/site-packages (from python-dateutil>=2.8.2->pandas>=2.0.0->ortools) (1.17.0)\r\n",
      "Downloading ortools-9.12.4544-cp39-cp39-macosx_11_0_arm64.whl (18.3 MB)\r\n",
      "\u001B[2K   \u001B[90m━━━━━━━━━━━━━━━━━━━━━━━━━━━━━━━━━━━━━━━━\u001B[0m \u001B[32m18.3/18.3 MB\u001B[0m \u001B[31m45.8 MB/s\u001B[0m eta \u001B[36m0:00:00\u001B[0m00:01\u001B[0m00:01\u001B[0m\r\n",
      "\u001B[?25hDownloading absl_py-2.1.0-py3-none-any.whl (133 kB)\r\n",
      "\u001B[2K   \u001B[90m━━━━━━━━━━━━━━━━━━━━━━━━━━━━━━━━━━━━━━━━\u001B[0m \u001B[32m133.7/133.7 kB\u001B[0m \u001B[31m9.0 MB/s\u001B[0m eta \u001B[36m0:00:00\u001B[0m\r\n",
      "\u001B[?25hDownloading immutabledict-4.2.1-py3-none-any.whl (4.7 kB)\r\n",
      "Using cached numpy-2.0.2-cp39-cp39-macosx_14_0_arm64.whl (5.3 MB)\r\n",
      "Using cached pandas-2.2.3-cp39-cp39-macosx_11_0_arm64.whl (11.3 MB)\r\n",
      "Using cached protobuf-5.29.3-cp38-abi3-macosx_10_9_universal2.whl (417 kB)\r\n",
      "Using cached pytz-2025.1-py2.py3-none-any.whl (507 kB)\r\n",
      "Using cached tzdata-2025.1-py2.py3-none-any.whl (346 kB)\r\n",
      "Installing collected packages: pytz, tzdata, protobuf, numpy, immutabledict, absl-py, pandas, ortools\r\n",
      "Successfully installed absl-py-2.1.0 immutabledict-4.2.1 numpy-2.0.2 ortools-9.12.4544 pandas-2.2.3 protobuf-5.29.3 pytz-2025.1 tzdata-2025.1\r\n",
      "\r\n",
      "\u001B[1m[\u001B[0m\u001B[34;49mnotice\u001B[0m\u001B[1;39;49m]\u001B[0m\u001B[39;49m A new release of pip is available: \u001B[0m\u001B[31;49m23.2.1\u001B[0m\u001B[39;49m -> \u001B[0m\u001B[32;49m25.0.1\u001B[0m\r\n",
      "\u001B[1m[\u001B[0m\u001B[34;49mnotice\u001B[0m\u001B[1;39;49m]\u001B[0m\u001B[39;49m To update, run: \u001B[0m\u001B[32;49mpip install --upgrade pip\u001B[0m\r\n"
     ]
    }
   ],
   "execution_count": 1
  },
  {
   "metadata": {},
   "cell_type": "markdown",
   "source": "### Définition des Variables et Contraintes\n",
   "id": "722941bcf7038e3d"
  },
  {
   "metadata": {
    "ExecuteTime": {
     "end_time": "2025-03-16T10:46:23.856401Z",
     "start_time": "2025-03-16T10:46:14.968814Z"
    }
   },
   "cell_type": "code",
   "source": [
    "from ortools.sat.python import cp_model\n",
    "\n",
    "# Création du modèle\n",
    "model = cp_model.CpModel()\n",
    "\n",
    "# Définir les variables et les contraintes ici\n",
    "# Exemple de définition de variables\n",
    "# Créneaux horaires: 0 à 23 pour représenter les heures de la journée\n",
    "time_slots = [model.NewIntVar(0, 23, f'time_slot_{i}') for i in range(24)]\n",
    "\n",
    "# Salles: 0 à 9 pour représenter 10 salles différentes\n",
    "rooms = [model.NewIntVar(0, 9, f'room_{i}') for i in range(10)]\n",
    "\n",
    "# Cours/Examens: 0 à 4 pour représenter 5 cours/examens différents\n",
    "courses = [model.NewIntVar(0, 4, f'course_{i}') for i in range(5)]\n",
    "\n",
    "# Enseignants: 0 à 4 pour représenter 5 enseignants différents\n",
    "teachers = [model.NewIntVar(0, 4, f'teacher_{i}') for i in range(5)]\n",
    "\n",
    "# Exemple de définition de contraintes\n",
    "# Exclusion mutuelle entre certains créneaux horaires\n",
    "model.AddNoOverlap([time_slots[2], time_slots[3], time_slots[4]])\n",
    "\n",
    "# Capacité des salles\n",
    "model.Add(rooms[0] > 30)\n",
    "\n",
    "# Disponibilité des enseignants\n",
    "model.Add(teachers[0] != 3)\n",
    "\n",
    "# Préférences\n",
    "model.Add(courses[0] > 2)"
   ],
   "id": "33db25dafd3a66e6",
   "outputs": [
    {
     "ename": "TypeError",
     "evalue": "NotSupported: model.get_interval_index('IntVar')",
     "output_type": "error",
     "traceback": [
      "\u001B[0;31m---------------------------------------------------------------------------\u001B[0m",
      "\u001B[0;31mTypeError\u001B[0m                                 Traceback (most recent call last)",
      "Cell \u001B[0;32mIn[2], line 22\u001B[0m\n\u001B[1;32m     18\u001B[0m teachers \u001B[38;5;241m=\u001B[39m [model\u001B[38;5;241m.\u001B[39mNewIntVar(\u001B[38;5;241m0\u001B[39m, \u001B[38;5;241m4\u001B[39m, \u001B[38;5;124mf\u001B[39m\u001B[38;5;124m'\u001B[39m\u001B[38;5;124mteacher_\u001B[39m\u001B[38;5;132;01m{\u001B[39;00mi\u001B[38;5;132;01m}\u001B[39;00m\u001B[38;5;124m'\u001B[39m) \u001B[38;5;28;01mfor\u001B[39;00m i \u001B[38;5;129;01min\u001B[39;00m \u001B[38;5;28mrange\u001B[39m(\u001B[38;5;241m5\u001B[39m)]\n\u001B[1;32m     20\u001B[0m \u001B[38;5;66;03m# Exemple de définition de contraintes\u001B[39;00m\n\u001B[1;32m     21\u001B[0m \u001B[38;5;66;03m# Exclusion mutuelle entre certains créneaux horaires\u001B[39;00m\n\u001B[0;32m---> 22\u001B[0m \u001B[43mmodel\u001B[49m\u001B[38;5;241;43m.\u001B[39;49m\u001B[43mAddNoOverlap\u001B[49m\u001B[43m(\u001B[49m\u001B[43m[\u001B[49m\u001B[43mtime_slots\u001B[49m\u001B[43m[\u001B[49m\u001B[38;5;241;43m2\u001B[39;49m\u001B[43m]\u001B[49m\u001B[43m,\u001B[49m\u001B[43m \u001B[49m\u001B[43mtime_slots\u001B[49m\u001B[43m[\u001B[49m\u001B[38;5;241;43m3\u001B[39;49m\u001B[43m]\u001B[49m\u001B[43m,\u001B[49m\u001B[43m \u001B[49m\u001B[43mtime_slots\u001B[49m\u001B[43m[\u001B[49m\u001B[38;5;241;43m4\u001B[39;49m\u001B[43m]\u001B[49m\u001B[43m]\u001B[49m\u001B[43m)\u001B[49m\n\u001B[1;32m     24\u001B[0m \u001B[38;5;66;03m# Capacité des salles\u001B[39;00m\n\u001B[1;32m     25\u001B[0m model\u001B[38;5;241m.\u001B[39mAdd(rooms[\u001B[38;5;241m0\u001B[39m] \u001B[38;5;241m>\u001B[39m \u001B[38;5;241m30\u001B[39m)\n",
      "File \u001B[0;32m~/Epita/prcon/.prconvenv/lib/python3.9/site-packages/ortools/sat/python/cp_model.py:1990\u001B[0m, in \u001B[0;36mCpModel.add_no_overlap\u001B[0;34m(self, interval_vars)\u001B[0m\n\u001B[1;32m   1987\u001B[0m ct \u001B[38;5;241m=\u001B[39m Constraint(\u001B[38;5;28mself\u001B[39m)\n\u001B[1;32m   1988\u001B[0m model_ct \u001B[38;5;241m=\u001B[39m \u001B[38;5;28mself\u001B[39m\u001B[38;5;241m.\u001B[39m__model\u001B[38;5;241m.\u001B[39mconstraints[ct\u001B[38;5;241m.\u001B[39mindex]\n\u001B[1;32m   1989\u001B[0m model_ct\u001B[38;5;241m.\u001B[39mno_overlap\u001B[38;5;241m.\u001B[39mintervals\u001B[38;5;241m.\u001B[39mextend(\n\u001B[0;32m-> 1990\u001B[0m     [\u001B[38;5;28mself\u001B[39m\u001B[38;5;241m.\u001B[39mget_interval_index(x) \u001B[38;5;28;01mfor\u001B[39;00m x \u001B[38;5;129;01min\u001B[39;00m interval_vars]\n\u001B[1;32m   1991\u001B[0m )\n\u001B[1;32m   1992\u001B[0m \u001B[38;5;28;01mreturn\u001B[39;00m ct\n",
      "File \u001B[0;32m~/Epita/prcon/.prconvenv/lib/python3.9/site-packages/ortools/sat/python/cp_model.py:1990\u001B[0m, in \u001B[0;36m<listcomp>\u001B[0;34m(.0)\u001B[0m\n\u001B[1;32m   1987\u001B[0m ct \u001B[38;5;241m=\u001B[39m Constraint(\u001B[38;5;28mself\u001B[39m)\n\u001B[1;32m   1988\u001B[0m model_ct \u001B[38;5;241m=\u001B[39m \u001B[38;5;28mself\u001B[39m\u001B[38;5;241m.\u001B[39m__model\u001B[38;5;241m.\u001B[39mconstraints[ct\u001B[38;5;241m.\u001B[39mindex]\n\u001B[1;32m   1989\u001B[0m model_ct\u001B[38;5;241m.\u001B[39mno_overlap\u001B[38;5;241m.\u001B[39mintervals\u001B[38;5;241m.\u001B[39mextend(\n\u001B[0;32m-> 1990\u001B[0m     [\u001B[38;5;28;43mself\u001B[39;49m\u001B[38;5;241;43m.\u001B[39;49m\u001B[43mget_interval_index\u001B[49m\u001B[43m(\u001B[49m\u001B[43mx\u001B[49m\u001B[43m)\u001B[49m \u001B[38;5;28;01mfor\u001B[39;00m x \u001B[38;5;129;01min\u001B[39;00m interval_vars]\n\u001B[1;32m   1991\u001B[0m )\n\u001B[1;32m   1992\u001B[0m \u001B[38;5;28;01mreturn\u001B[39;00m ct\n",
      "File \u001B[0;32m~/Epita/prcon/.prconvenv/lib/python3.9/site-packages/ortools/sat/python/cp_model.py:2159\u001B[0m, in \u001B[0;36mCpModel.get_interval_index\u001B[0;34m(self, arg)\u001B[0m\n\u001B[1;32m   2157\u001B[0m \u001B[38;5;28;01mdef\u001B[39;00m\u001B[38;5;250m \u001B[39m\u001B[38;5;21mget_interval_index\u001B[39m(\u001B[38;5;28mself\u001B[39m, arg: IntervalVar) \u001B[38;5;241m-\u001B[39m\u001B[38;5;241m>\u001B[39m \u001B[38;5;28mint\u001B[39m:\n\u001B[1;32m   2158\u001B[0m     \u001B[38;5;28;01mif\u001B[39;00m \u001B[38;5;129;01mnot\u001B[39;00m \u001B[38;5;28misinstance\u001B[39m(arg, IntervalVar):\n\u001B[0;32m-> 2159\u001B[0m         \u001B[38;5;28;01mraise\u001B[39;00m \u001B[38;5;167;01mTypeError\u001B[39;00m(\n\u001B[1;32m   2160\u001B[0m             \u001B[38;5;124mf\u001B[39m\u001B[38;5;124m\"\u001B[39m\u001B[38;5;124mNotSupported: model.get_interval_index(\u001B[39m\u001B[38;5;132;01m{\u001B[39;00m\u001B[38;5;28mtype\u001B[39m(arg)\u001B[38;5;241m.\u001B[39m\u001B[38;5;18m__name__\u001B[39m\u001B[38;5;132;01m!r}\u001B[39;00m\u001B[38;5;124m)\u001B[39m\u001B[38;5;124m\"\u001B[39m\n\u001B[1;32m   2161\u001B[0m         )\n\u001B[1;32m   2162\u001B[0m     \u001B[38;5;28;01mreturn\u001B[39;00m arg\u001B[38;5;241m.\u001B[39mindex\n",
      "\u001B[0;31mTypeError\u001B[0m: NotSupported: model.get_interval_index('IntVar')"
     ]
    }
   ],
   "execution_count": 2
  },
  {
   "metadata": {},
   "cell_type": "markdown",
   "source": [
    "## Résolution du Problème\n",
    "\n",
    "### Exécution du Solveur"
   ],
   "id": "b672c34d8a79bd77"
  },
  {
   "metadata": {},
   "cell_type": "code",
   "outputs": [],
   "execution_count": null,
   "source": [
    "# Exemple de résolution du problème\n",
    "solver = cp_model.CpSolver()\n",
    "status = solver.Solve(model)"
   ],
   "id": "cb37b963cafcdea8"
  },
  {
   "metadata": {},
   "cell_type": "markdown",
   "source": [
    "\n",
    "### Analyse des Solutions\n",
    "- Analyser et visualiser les solutions générées.\n",
    "\n",
    "## Optimisation\n",
    "\n",
    "### Critères d'Optimisation\n",
    "- Minimiser les conflits\n",
    "- Maximiser la satisfaction des préférences\n",
    "\n",
    "### Comparaison des Solutions\n",
    "- Avant et après optimisation\n",
    "\n",
    "## Extensions et Tests\n",
    "\n",
    "### Contraintes Supplémentaires\n",
    "- Intégrer des règles de répartition géographique ou des préférences spécifiques.\n",
    "\n",
    "### Tests avec Données Réelles\n",
    "- Utiliser des données réelles pour tester la robustesse du modèle.\n",
    "\n",
    "## Conclusion\n",
    "\n",
    "- Résumé des résultats obtenus.\n",
    "- Perspectives pour des améliorations futures."
   ],
   "id": "ca36fd35343a434b"
  }
 ],
 "metadata": {
  "kernelspec": {
   "name": "python3",
   "language": "python",
   "display_name": "Python 3 (ipykernel)"
  }
 },
 "nbformat": 5,
 "nbformat_minor": 9
}
