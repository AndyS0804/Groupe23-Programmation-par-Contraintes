{
 "cells": [
  {
   "cell_type": "markdown",
   "id": "39470790-336b-40da-803f-39fd99b49b79",
   "metadata": {},
   "source": [
    "# 1. Choix du sujet\n",
    "\n",
    "Nous souhaitions dès le départ travailler sur un projet graphique mêlant simulation et génération procédurale. En explorant les propositions, le [sujet 21](https://github.com/jsboigeEpita/2025-Epita-Programmation-par-Contraintes/tree/main?tab=readme-ov-file#21-g%C3%A9n%C3%A9ration-proc%C3%A9durale-de-niveaux-de-jeu-vid%C3%A9o-sous-contraintes)  nous a semblé intéressant comme point de départ, bien que nous ayons fini par en diverger.\n",
    "\n",
    "Nous avons choisi de nous orienter vers la **génération de villes par contraintes**. L’objectif est de modéliser un terrain et d’y placer des bâtiments en respectant un ensemble de règles :\n",
    "\n",
    "- un **réseau routier continu** doit être présent,\n",
    "- les bâtiments ne peuvent être construits que :\n",
    "  - sur des tuiles de **terre**,\n",
    "  - et **adjacentes à une route**,\n",
    "- chaque type de bâtiment possède ses propres contraintes spécifiques (détaillées plus loin).\n",
    "\n",
    "La génération se fait en 2D, sur une grille de taille fixée, divisée en **tiles**. Chaque tile contient un unique type d’élément : **route**, **terre** ou **bâtiment**. De plus, chaque entité occupe exactement **une seule tile** (pas de bâtiments multi-tiles).\n",
    "\n",
    "\n",
    "---\n",
    "\n",
    "# 2. Mise en place\n",
    "\n",
    "Nous avons opté pour une interface graphique web 2D afin de faciliter les tests et d’obtenir un retour visuel rapide.  \n",
    "Pour cela, nous utilisons :\n",
    "- **JavaScript** pour le rendu,\n",
    "- la bibliothèque **Pixi.js** pour l'affichage 2D,\n",
    "- et le module **`eel`** pour faire le lien entre le **backend Python** (résolution des contraintes) et le **frontend**.\n",
    "\n",
    "Le projet complet peut être lancé avec la commande suivante :\n",
    "```bash\n",
    "python -m sims.main\n",
    "```\n",
    "\n",
    "Cependant, pour mieux illustrer notre démarche et notre progression, nous intégrerons directement des visuels et sorties dans ce notebook."
   ]
  },
  {
   "cell_type": "markdown",
   "id": "887a04dc-ba98-4344-80bf-023ad280b355",
   "metadata": {},
   "source": [
    "---\n",
    "\n",
    "## 2.1 Fonctions utilitaires\n",
    "\n",
    "On commence par importer les modules nécessaires."
   ]
  },
  {
   "cell_type": "code",
   "execution_count": 1,
   "id": "cd0c6ab6-fbe2-4381-9454-a61978b74e97",
   "metadata": {},
   "outputs": [],
   "source": [
    "import numpy as np\n",
    "from PIL import Image\n",
    "from pathlib import Path\n",
    "from IPython.display import display\n",
    "from enum import Enum, IntEnum\n",
    "from noise import pnoise2\n",
    "import random\n",
    "from ipywidgets import interact\n",
    "from z3 import *"
   ]
  },
  {
   "cell_type": "markdown",
   "id": "0799a751-8b04-48d9-b0b4-fb7e857d91aa",
   "metadata": {},
   "source": [
    "---\n",
    "\n",
    "La cellule suivante est reponsable de l'affichage, il n'y a pas de logique intéressante dedans"
   ]
  },
  {
   "cell_type": "code",
   "execution_count": 2,
   "id": "fb4eea3a-aac5-45c9-ae25-bee0b710a2bc",
   "metadata": {},
   "outputs": [],
   "source": [
    "# All the possible tiles\n",
    "class Tile(IntEnum):\n",
    "    NONE = 0\n",
    "    ROAD = 1\n",
    "    WATER = 2\n",
    "    HOUSE = 3\n",
    "\n",
    "# Graphical variants for each one\n",
    "tileTexture = {\n",
    "    0: ['none0', 'none1', 'none2', 'none2', 'none3', 'none4'],\n",
    "    1: ['road'],\n",
    "    2: ['water', 'water0', 'water1'],\n",
    "    3: ['house']\n",
    "}\n",
    "\n",
    "\n",
    "# Load all tiles and their variants\n",
    "TILE_IMAGES = {}\n",
    "def load_images():\n",
    "    image_folder = Path(\"sims/web/images\")\n",
    "    \n",
    "    for tile_id, variants in tileTexture.items():\n",
    "        TILE_IMAGES[tile_id] = []\n",
    "        for variant in variants:\n",
    "            img_path = image_folder / f\"{variant}.png\"\n",
    "            if img_path.exists():\n",
    "                TILE_IMAGES[tile_id].append(Image.open(img_path).convert(\"RGBA\"))\n",
    "            else:\n",
    "                print(f\"Warning: Missing image {img_path}\")\n",
    "\n",
    "# take a grid in parameter and display a canvas\n",
    "def plot(grid):\n",
    "    if len(TILE_IMAGES) == 0:\n",
    "        load_images()\n",
    "\n",
    "    tile_size = TILE_IMAGES[0][0].size\n",
    "    canvas = Image.new(\"RGBA\", (grid.shape[1] * tile_size[0], grid.shape[0] * tile_size[1]))\n",
    "\n",
    "    for y in range(grid.shape[0]):\n",
    "        for x in range(grid.shape[1]):\n",
    "            tile_id = grid[y, x]\n",
    "            variants = TILE_IMAGES.get(tile_id, [])\n",
    "            if variants:\n",
    "                tile_img = random.choice(variants)\n",
    "                canvas.paste(tile_img, (x * tile_size[0], y * tile_size[1]), tile_img)\n",
    "\n",
    "    display(canvas)"
   ]
  },
  {
   "cell_type": "markdown",
   "id": "f74e4bec-80d7-4e24-86f9-4bd955f61877",
   "metadata": {},
   "source": [
    "---\n",
    "\n",
    "## 2.2 Variables globales\n",
    "\n",
    "Ici sont exposé des variables globales permettant de modifier le comportement du système :"
   ]
  },
  {
   "cell_type": "code",
   "execution_count": 3,
   "id": "e9f04d9d-13a6-40ad-82f5-296d80518afd",
   "metadata": {},
   "outputs": [],
   "source": [
    "# Control the size of the grid (the number of tiles)\n",
    "GRID_WIDTH = 50\n",
    "GRID_HEIGHT = 30"
   ]
  },
  {
   "cell_type": "markdown",
   "id": "1ad2c5b1-3c19-46ab-bc81-630d4ae4d1cc",
   "metadata": {},
   "source": [
    "---\n",
    "\n",
    "## 2.3 Génération d'une grille vide\n",
    "\n",
    "On commence par générer une grille vide de la bonne taille. Ce sera le support pour la suite du notebook"
   ]
  },
  {
   "cell_type": "code",
   "execution_count": 4,
   "id": "20dc888c-b7d9-43a7-b5da-7e4b27a88bbe",
   "metadata": {},
   "outputs": [
    {
     "data": {
      "image/png": "[encoded data removed]",
      "text/plain": [
       "<PIL.Image.Image image mode=RGBA size=800x480>"
      ]
     },
     "metadata": {},
     "output_type": "display_data"
    }
   ],
   "source": [
    "generated = np.array([[Tile.NONE for _ in range(GRID_WIDTH)] for _ in range(GRID_HEIGHT)])\n",
    "\n",
    "plot(generated)"
   ]
  },
  {
   "cell_type": "markdown",
   "id": "a134dbf6-e17e-485c-b034-b623b3efca49",
   "metadata": {},
   "source": [
    "---\n",
    "\n",
    "# 3. Génération"
   ]
  },
  {
   "cell_type": "markdown",
   "id": "4fced306-1464-499d-86a1-ca0205d81152",
   "metadata": {},
   "source": [
    "## 3.1 Génération du réseau routier\n",
    "\n",
    "Après plusieurs essais et réflexions, nous avons opté pour une approche séquentielle consistant à générer d'abord le réseau de routes, puis à appliquer les autres contraintes par la suite. Cette stratégie s’est avérée plus simple et plus flexible que de tenter de tout modéliser simultanément. Notre choix repose sur plusieurs considérations :\n",
    "\n",
    "- **Contrôle algorithmique** : Générer les routes en amont nous permettait de choisir et de paramétrer librement l’algorithme de génération, ce qui nous offrait un meilleur contrôle sur la structure du réseau.\n",
    "- **Lisibilité et modularité** : Mélanger les contraintes dès le départ aurait considérablement complexifié le modèle, rendant le code plus difficile à maintenir et à ajuster.\n",
    "- **Nature du problème** : La génération de routes repose sur des notions de connectivité globale qui sont complexes à exprimer en programmation par contrainte pure. Elle nécessite souvent des bibliothèques spécialisées qui sortent du cadre de notre projet. Pour des raisons de temps et de clarté, nous avons donc choisi de traiter cette partie séparément.\n",
    "\n",
    "### Génération avec Z3\n",
    "\n",
    "Bien que Z3 ne soit pas idéalement adapté à ce type de contrainte, nous avons souhaité tester son utilisation, à la fois pour valider la faisabilité de cette approche et pour nous familiariser davantage avec l'outil.\n",
    "\n",
    "La cellule suivante illustre notre logique de génération, avec un curseur permettant de contrôler dynamiquement le nombre maximal de routes."
   ]
  },
  {
   "cell_type": "code",
   "execution_count": 5,
   "id": "a28570c2-e84f-4a90-8f09-26c5b4a42804",
   "metadata": {},
   "outputs": [
    {
     "data": {
      "application/vnd.jupyter.widget-view+json": {
       "model_id": "0350eb667e3640e3a5270b093f5f197b",
       "version_major": 2,
       "version_minor": 0
      },
      "text/plain": [
       "interactive(children=(IntSlider(value=700, description='max_count', max=2000), Output()), _dom_classes=('widge…"
      ]
     },
     "metadata": {},
     "output_type": "display_data"
    }
   ],
   "source": [
    "@interact(max_count=(0,2000))\n",
    "def generate_road_z3(max_count=700):\n",
    "    grid = [[Bool(f\"r_{y}_{x}\") for x in range(GRID_WIDTH)] for y in range(GRID_HEIGHT)]\n",
    "    \n",
    "    s = Solver()\n",
    "    \n",
    "    s.add(Sum([If(cell, 1, 0) for row in grid for cell in row]) <= max_count)\n",
    "    \n",
    "    # Each road must at least be near 2 other roads\n",
    "    for y in range(GRID_HEIGHT):\n",
    "        for x in range(GRID_WIDTH):\n",
    "            neighbors = []\n",
    "            for dy, dx in [(-1, 0), (1, 0), (0, -1), (0, 1)]:\n",
    "                ny, nx = y + dy, x + dx\n",
    "                if 0 <= ny < GRID_HEIGHT and 0 <= nx < GRID_WIDTH:\n",
    "                    neighbors.append(grid[ny][nx])\n",
    "            if neighbors:\n",
    "                s.add(Implies(grid[y][x], Sum([If(n, 1, 0) for n in neighbors]) >= 2))\n",
    "\n",
    "    # Prevent from having clusters of 2x2 of only roads\n",
    "    for y in range(GRID_HEIGHT - 1):\n",
    "        for x in range(GRID_WIDTH - 1):\n",
    "            square = [\n",
    "                grid[y][x],\n",
    "                grid[y][x+1],\n",
    "                grid[y+1][x],\n",
    "                grid[y+1][x+1]\n",
    "            ]\n",
    "            s.add(Sum([If(c, 1, 0) for c in square]) <= 3)\n",
    "\n",
    "    # Plotting part\n",
    "    if s.check() == sat:\n",
    "        m = s.model()\n",
    "        road_grid = np.array(generated)\n",
    "        for y in range(GRID_HEIGHT):\n",
    "            for x in range(GRID_WIDTH):\n",
    "                road_grid[y, x] = 1 if m.evaluate(grid[y][x]) else 0\n",
    "    \n",
    "        plot(road_grid)\n",
    "    else:\n",
    "        print(\"Pas de solution.\")"
   ]
  },
  {
   "cell_type": "markdown",
   "id": "c2e960a4-0550-4b0a-bfc3-4ff90044d3c3",
   "metadata": {},
   "source": [
    "---\n",
    "\n",
    "Cependant, nous nous sommes rapidement aperçus que cette méthode de génération présentait plusieurs limites importantes :\n",
    "\n",
    "- Elle offre très peu de contrôle sur le nombre exact de routes, et ne comporte aucun élément aléatoire.\n",
    "- Son temps d'exécution est relativement long, malgré une taille de grille modeste.\n",
    "- Le réseau généré n’est pas toujours connecté de manière cohérente.\n",
    "\n",
    "Un des rares avantages de cette approche réside dans la présence de motifs singuliers intéressants (bien que parfois trop répétitifs).\n",
    "\n",
    "En particulier à cause des deux derniers points, nous avons décidé d'explorer d'autres solutions pour la génération du réseau routier. Afin de ne pas alourdir inutilement ce notebook, nous n’y avons conservé que les idées principales, les algorithmes testés, une synthèse des résultats obtenus, et enfin la méthode retenue.\n",
    "\n",
    "---\n",
    "\n",
    "### Distance entre centroïdes\n",
    "\n",
    "Nous avons commencé par réfléchir en termes de destinations : un réseau de routes est avant tout créé pour relier des points entre eux. Ainsi, nous avons envisagé un algorithme fondé sur la notion de centroïdes :\n",
    "\n",
    "1. Diviser la grille en cellules régulières.\n",
    "2. Dans chaque cellule, définir un centroïde (au centre et très légèrement décalé aléatoirement).\n",
    "3. Répéter *n* fois :\n",
    "    - Sélectionner deux centroïdes au hasard.\n",
    "    - Tracer une route entre eux en suivant un trajet basé sur la distance de Manhattan.\n",
    "\n",
    "Cette approche a finalement été écartée pour plusieurs raisons :\n",
    "\n",
    "- Les routes n’étaient pas toujours continues.\n",
    "- Le résultat était visuellement désordonné et peu cohérent.\n",
    "- Elle entraînait parfois la création d’amas de routes (ex. : des blocs de 3x3 cases composés uniquement de routes).\n",
    "\n",
    "---\n",
    "\n",
    "### Construction multi-agents\n",
    "\n",
    "Après réflexion, nous avons envisagé une approche inspirée des systèmes multi-agents, en simulant un comportement proche de celui de fourmis explorant un territoire. Les chemins parcourus par ces agents deviennent alors nos routes.\n",
    "\n",
    "L'algorithme proposé repose sur les étapes suivantes :\n",
    "\n",
    "1. Générer un agent à un point de départ.\n",
    "2. Répéter *n* fois pour chaque agent, en introduisant une part d’aléatoire (avec pondérations sur les choix possibles) :\n",
    "    - Avancer et placer une route, uniquement si moins de trois routes sont présentes autour de la case.\n",
    "    - Tourner dans une direction (par pas de 90°).\n",
    "    - Émettre un nouvel agent (\"enfant\").\n",
    "    - Mourir.\n",
    "\n",
    "Malheureusement, cette méthode produit des motifs trop chaotiques et rend difficile le contrôle du comportement global du système, notamment à cause du caractère hautement aléatoire de l'exploration.\n",
    "\n",
    "---\n",
    "\n",
    "### Génération par \"mur de labyrinthe\"\n",
    "\n",
    "Nous avons finalement exploré une approche fondée sur la génération de labyrinthe, en utilisant un algorithme de backtracking (DFS). L'idée est de construire un labyrinthe classique, puis de ne conserver que les \"murs\" pour en faire notre réseau de routes. Cette méthode a plusieurs avantages :\n",
    "\n",
    "- Tous les murs (donc routes) sont connectés, ce qui garantit la continuité du réseau.\n",
    "- Le motif obtenu est structuré tout en restant suffisamment complexe pour être intéressant.\n",
    "\n",
    "Dans la cellule suivante, vous pouvez visualiser le résultat de cette méthode, avec un curseur permettant d'ajuster les paramètres de génération."
   ]
  },
  {
   "cell_type": "code",
   "execution_count": 6,
   "id": "79b65a62-6515-4726-a37c-1fabb7c7a6f7",
   "metadata": {},
   "outputs": [
    {
     "data": {
      "application/vnd.jupyter.widget-view+json": {
       "model_id": "121f4595cc8644bb8cf921669dec74d4",
       "version_major": 2,
       "version_minor": 0
      },
      "text/plain": [
       "interactive(children=(IntSlider(value=0, description='seed', max=1000), Output()), _dom_classes=('widget-inter…"
      ]
     },
     "metadata": {},
     "output_type": "display_data"
    }
   ],
   "source": [
    "DIRS = [(0, 2), (2, 0), (0, -2), (-2, 0)]\n",
    "\n",
    "def generate_labyrinth_roads(grid: list[list[int]]) -> list[list[int]]: \n",
    "    grid_width, grid_height = GRID_WIDTH, GRID_HEIGHT\n",
    "\n",
    "    start_x, start_y = 1, 1\n",
    "    while grid[start_y][start_x] == Tile.WATER:\n",
    "        start_x = random.randint(1, grid_width - 1)\n",
    "        start_y = random.randint(1, grid_height - 1)\n",
    "    grid[start_y][start_x] = Tile.ROAD\n",
    "    walls = [(start_x + dx, start_y + dy) for dx, dy in DIRS]\n",
    "    \n",
    "    while walls:\n",
    "        wx, wy = random.choice(walls)\n",
    "        walls.remove((wx, wy))\n",
    "\n",
    "        if 0 < wx < grid_width-1 and 0 < wy < grid_height-1:\n",
    "            neighbors = []\n",
    "            if wx >= 2 and grid[wy][wx - 2] == Tile.ROAD:\n",
    "                neighbors.append((wx - 2, wy))\n",
    "            if wx < grid_width - 2 and grid[wy][wx + 2] == Tile.ROAD:\n",
    "                neighbors.append((wx + 2, wy))\n",
    "            if wy >= 2 and grid[wy - 2][wx] == Tile.ROAD:\n",
    "                neighbors.append((wx, wy - 2))\n",
    "            if wy < grid_height - 2 and grid[wy + 2][wx] == Tile.ROAD:\n",
    "                neighbors.append((wx, wy + 2))\n",
    "\n",
    "            if len(neighbors) == 1:\n",
    "                nx, ny = neighbors[0]\n",
    "                midY = (wy + ny)//2\n",
    "                midX = (wx + nx)//2\n",
    "\n",
    "                grid[wy][wx] = Tile.ROAD\n",
    "                grid[midY][midX] = Tile.ROAD\n",
    "\n",
    "                for dx, dy in DIRS:\n",
    "                    new_wx, new_wy = wx + dx, wy + dy\n",
    "                    if 0 <= new_wx < grid_width and 0 <= new_wy < grid_height:\n",
    "                        if grid[new_wy][new_wx] != Tile.ROAD:\n",
    "                            walls.append((new_wx, new_wy))\n",
    "\n",
    "    return grid\n",
    "\n",
    "@interact(seed=(0, 1000))\n",
    "def plot_road(seed=0):\n",
    "    road = generate_labyrinth_roads(np.array(generated))\n",
    "\n",
    "    plot(road)"
   ]
  },
  {
   "cell_type": "markdown",
   "id": "8c513e7f-49ec-4a0a-ac6f-ff198efca7ee",
   "metadata": {},
   "source": [
    "---\n",
    "\n",
    "## 3.1 Génération de rivières\n",
    "\n",
    "Nous avons constaté qu'un réseau composé uniquement de routes générées de manière procédurale manquait de variété et de complexité. Bien que le réseau soit aléatoire, cette approche produisait des structures similaires à chaque exécution, ce qui rendait les résultats peu intéressants. Afin d'introduire de la diversité et de la difficulté dans le modèle, nous avons décidé d'ajouter des rivières et des lacs de manière aléatoire.\n",
    "\n",
    "Plusieurs algorithmes ont été testés pour la génération des rivières :\n",
    "\n",
    "- **Choix de points aléatoires et rayon autour de chaque point** : Cette méthode consistait à sélectionner plusieurs points aléatoires sur la carte et à définir un rayon autour de chaque point comme étant des zones d'eau. Cependant, le résultat était trop pixelisé et visuellement peu attrayant.\n",
    "- **Bruit de Perlin simple** : Bien que cette technique génère des motifs fluides et naturels, les grands motifs créés manquaient de variété et remplissaient excessivement la carte.\n",
    "- **Ridge noise avec peu d'octaves** : Cette approche a permis de créer un réseau de rivières plus intéressant, offrant une structure à la fois aléatoire et cohérente. En combinant une graine aléatoire et un léger offset, nous avons pu générer des rivières réalistes tout en conservant un aspect aléatoire et fluide.\n",
    "\n",
    "Nous avons également envisagé l'ajout de forêts et de déserts, mais nous avons choisi de nous concentrer sur les rivières pour le moment. En effet, l'intégration de trop de biomes pourrait restreindre l'espace libre disponible, notamment avec les nombreuses autres contraintes déjà en place dans le modèle.\n",
    "\n",
    "La cellule suivante illustre l'utilisation du Ridge Noise, l'algorithme retenu pour cette génération. Des paramètres sont également présents pour tester le comportement de l'algorithme avec différentes configurations.\n",
    "\n"
   ]
  },
  {
   "cell_type": "code",
   "execution_count": 8,
   "id": "784ed5a7-9164-43c8-b5bc-aaf111ce4ffb",
   "metadata": {},
   "outputs": [
    {
     "data": {
      "application/vnd.jupyter.widget-view+json": {
       "model_id": "785b6f35b1624559adfdedcff11540db",
       "version_major": 2,
       "version_minor": 0
      },
      "text/plain": [
       "interactive(children=(FloatSlider(value=5.0, description='x', max=10.0), FloatSlider(value=5.0, description='y…"
      ]
     },
     "metadata": {},
     "output_type": "display_data"
    }
   ],
   "source": [
    "TRESH = 0.97\n",
    "SCALE = 50\n",
    "\n",
    "def generate_river(x=0, y=0, seed=0, persistence=0.5, lacunarity=2):\n",
    "    grid = np.array(generated)\n",
    "    grid_width, grid_height = GRID_WIDTH, GRID_HEIGHT\n",
    "    \n",
    "    # Génération du bruit Perlin et transformation en ridge noise\n",
    "    for i in range(grid_height):\n",
    "        for j in range(grid_width):\n",
    "            # Génération du bruit Perlin\n",
    "            noise_value = pnoise2(y + i / SCALE, x + j / SCALE, octaves=2, persistence=persistence, lacunarity=lacunarity, base=seed)\n",
    "            # Application du ridge noise (inverser la valeur absolue)\n",
    "            ridge = 1 - abs(noise_value)\n",
    "\n",
    "            if ridge > TRESH and grid[i,j] == Tile.NONE:\n",
    "                grid[i,j] = Tile.WATER\n",
    "    \n",
    "    return grid\n",
    "\n",
    "@interact(x=(0, 10, 0.1), y=(0, 10, 0.1), seed=(0, 1000), persistence=(0, 1, 0.01), lacunarity=(0, 4, 0.1))\n",
    "def plot_generate_river(x, y, seed, persistence=0.5, lacunarity=2):    \n",
    "    plot(generate_river(x, y, seed, persistence, lacunarity))"
   ]
  },
  {
   "cell_type": "markdown",
   "id": "286d4302-6cf1-44ed-b494-5f95c44eeb32",
   "metadata": {},
   "source": [
    "Le problème à maintenant était de combiner le réseau de route avec les rivières"
   ]
  },
  {
   "cell_type": "code",
   "execution_count": 9,
   "id": "2e56a198-3959-4599-ace3-15f44162a3f9",
   "metadata": {},
   "outputs": [
    {
     "data": {
      "application/vnd.jupyter.widget-view+json": {
       "model_id": "275f257e77b947d1935d062e1d6f6982",
       "version_major": 2,
       "version_minor": 0
      },
      "text/plain": [
       "interactive(children=(IntSlider(value=0, description='seed', max=1000), Output()), _dom_classes=('widget-inter…"
      ]
     },
     "metadata": {},
     "output_type": "display_data"
    }
   ],
   "source": [
    "DIRS = [(0, 2), (2, 0), (0, -2), (-2, 0)]\n",
    "DIRS1 = [(0, 1), (1, 0), (0, -1), (-1, 0)]\n",
    "\n",
    "def flood_fill(grid, flooded, x_start, y_start, i):\n",
    "    toVisit = [(x_start,y_start)]\n",
    "    while toVisit:\n",
    "        x,y = toVisit.pop()\n",
    "\n",
    "        if flooded[y][x] == i or grid[y][x] == Tile.WATER:\n",
    "            continue\n",
    "\n",
    "        flooded[y][x] = i\n",
    "\n",
    "        for dx, dy in DIRS1:\n",
    "            xx = x + dx\n",
    "            yy = y + dy\n",
    "\n",
    "            if xx < 0 or yy < 0 or xx >= GRID_WIDTH or yy >= GRID_HEIGHT:\n",
    "                continue\n",
    "\n",
    "            toVisit.append((xx,yy))\n",
    "\n",
    "def is_near_water(grid, x, y):\n",
    "    for dx, dy in DIRS:\n",
    "        xx = x + dx\n",
    "        yy = y + dy\n",
    "\n",
    "        if xx < 0 or yy < 0 or xx >= GRID_WIDTH or yy >= GRID_HEIGHT:\n",
    "            continue\n",
    "\n",
    "        if grid[yy, xx] == Tile.WATER:\n",
    "            return True\n",
    "\n",
    "    return False\n",
    "\n",
    "def generate_labyrinth_roads(grid, start_x, start_y): \n",
    "    grid_width, grid_height = GRID_WIDTH, GRID_HEIGHT\n",
    "\n",
    "    grid[start_y][start_x] = Tile.ROAD\n",
    "    walls = [(start_x + dx, start_y + dy) for dx, dy in DIRS]\n",
    "    near_water = set()\n",
    "    \n",
    "    while walls:\n",
    "        wx, wy = random.choice(walls)\n",
    "        walls.remove((wx, wy))\n",
    "\n",
    "        if 0 < wx < grid_width-1 and 0 < wy < grid_height-1 and grid[wy][wx] == Tile.NONE:\n",
    "            neighbors = []\n",
    "            if wx >= 2 and grid[wy][wx - 2] == Tile.ROAD:\n",
    "                neighbors.append((wx - 2, wy))\n",
    "            if wx < grid_width - 2 and grid[wy][wx + 2] == Tile.ROAD:\n",
    "                neighbors.append((wx + 2, wy))\n",
    "            if wy >= 2 and grid[wy - 2][wx] == Tile.ROAD:\n",
    "                neighbors.append((wx, wy - 2))\n",
    "            if wy < grid_height - 2 and grid[wy + 2][wx] == Tile.ROAD:\n",
    "                neighbors.append((wx, wy + 2))\n",
    "\n",
    "            if len(neighbors) == 1:\n",
    "                nx, ny = neighbors[0]\n",
    "                if grid[ny][nx] == Tile.WATER:\n",
    "                    continue\n",
    "                midY = (wy + ny)//2\n",
    "                midX = (wx + nx)//2\n",
    "\n",
    "                if grid[midY][midX] != Tile.NONE:\n",
    "                    continue\n",
    "\n",
    "                grid[wy][wx] = Tile.ROAD\n",
    "                grid[midY][midX] = Tile.ROAD\n",
    "\n",
    "                if is_near_water(grid, wx, wy):\n",
    "                    near_water.add((wx, wy))\n",
    "\n",
    "                if is_near_water(grid, midX, midY):\n",
    "                    near_water.add((midX, midY))\n",
    "\n",
    "                for dx, dy in DIRS:\n",
    "                    new_wx, new_wy = wx + dx, wy + dy\n",
    "                    if 0 <= new_wx < grid_width and 0 <= new_wy < grid_height:\n",
    "                        if grid[new_wy][new_wx] == Tile.NONE:\n",
    "                            walls.append((new_wx, new_wy))\n",
    "\n",
    "    return grid, near_water\n",
    "\n",
    "def generate_road(grid):\n",
    "    flooded = np.zeros_like(grid)\n",
    "    set_i = 1\n",
    "    prev_road = None\n",
    "\n",
    "    print(GRID_WIDTH * GRID_HEIGHT)\n",
    "\n",
    "    for x in range(0, GRID_WIDTH):\n",
    "        for y in range(0, GRID_HEIGHT):\n",
    "            if grid[y, x] == Tile.WATER:\n",
    "                continue\n",
    "\n",
    "            if flooded[y, x] > 0:\n",
    "                continue\n",
    "\n",
    "            if is_near_water(grid, x, y):\n",
    "                continue\n",
    "\n",
    "            grid, near_water = generate_labyrinth_roads(grid, x, y)\n",
    "\n",
    "            flood_fill(grid, flooded, x, y, set_i)\n",
    "            set_i += 1\n",
    "\n",
    "            if prev_road is None:\n",
    "                prev_road = near_water\n",
    "            else:\n",
    "                pass\n",
    "                # Will link to a road\n",
    "\n",
    "    return grid\n",
    "\n",
    "@interact(seed=(0, 1000))\n",
    "def plot_road(seed=0):\n",
    "    rivers = generate_river(seed=seed)\n",
    "    road = generate_road(rivers)\n",
    "\n",
    "    plot(road)"
   ]
  },
  {
   "cell_type": "markdown",
   "id": "26bf298a-4727-4191-ab11-9714c6a9d81b",
   "metadata": {},
   "source": [
    "## Contraintes simple\n",
    "\n",
    "On est parti au début en se disant:\n",
    "- On a une population de $n_{hab}$ habitants\n",
    "- Chaque habitation peut contenir jusqu'à $m$ habitants et doit être directement à côté de la route et uniquement sur de la terre (pas sur de l'eau, route et autres habitations).\n",
    "\n",
    "Nous sommes partit sur Z3 avec un système d'équation pour résoudre ce problème"
   ]
  },
  {
   "cell_type": "code",
   "execution_count": null,
   "id": "4b8393f9-ca24-44fc-92a3-7082f5b83914",
   "metadata": {},
   "outputs": [],
   "source": []
  }
 ],
 "metadata": {
  "kernelspec": {
   "display_name": "Python 3 (ipykernel)",
   "language": "python",
   "name": "python3"
  },
  "language_info": {
   "codemirror_mode": {
    "name": "ipython",
    "version": 3
   },
   "file_extension": ".py",
   "mimetype": "text/x-python",
   "name": "python",
   "nbconvert_exporter": "python",
   "pygments_lexer": "ipython3",
   "version": "3.13.2"
  }
 },
 "nbformat": 4,
 "nbformat_minor": 5
}
