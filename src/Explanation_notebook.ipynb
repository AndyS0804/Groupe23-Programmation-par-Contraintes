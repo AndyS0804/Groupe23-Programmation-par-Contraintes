{
 "cells": [
  {
   "cell_type": "markdown",
   "metadata": {},
   "source": [
    "### Hybrid Solver (CSP + LLM)\n",
    "\n",
    "Our Hybrid Solver, is a solver that combines Constraint Satisfaction Problem (CSP) techniques with a Language Learning Model (LLM) to efficiently solve Wordle puzzles. Here's how it works:\n",
    "\n",
    "1. Language Agent (LLM Component)\n",
    "    - Uses OpenAI's model (GPT 4o) to make strategic word selections\n",
    "    - Analyzes patterns and letter distributions in remaining candidates\n",
    "    - Calculates information gain for potential guesses\n",
    "    - Provides explanations for word choices\n",
    "\n",
    "2. CSP Component:\n",
    "    - The Constraint Satisfaction Problem component handles the logical filtering of the word list.\n",
    "    - Maintains constraints using the WordleConstraints class (green, yellow, grey letters)\n",
    "    - Tracks minimum letter counts to handle duplicate letters correctly,\n",
    "    - Efficiently filters the word list after each guess via the filter_valid_words function,\n",
    "    - Ensures all candidates are valid according to game rules,\n",
    "\n",
    "3. Solving Process in Detail:,\n",
    "    - **Initialization**: Starts with a complete dictionary of valid words,\n",
    "    - **First Move Optimization**: For large dictionaries, uses \\\"crane\\\" as a statistically efficient first guess,\n",
    "    - **Iterative Guessing**:,\n",
    "        * The LLM agent suggests optimal next words through function-calling capabilities,\n",
    "        * Feedback is collected comparing the guess against the target word\n",
    "        * CSP filters the dictionary to maintain only valid candidates\n",
    "        * Process repeats until solution is found or max attempts reached\n",
    "\n",
    "4. Example of Solving Flow:\n",
    "    1. Start with complete dictionary (e.g., 2,315 words),\n",
    "    2. First guess \\\"crane\\\" → get feedback (e.g., 🟨⬛🟩⬛⬛),\n",
    "    3. CSP filters dictionary to words matching constraints (e.g., 42 words)\n",
    "    4. LLM analyzes remaining candidates, suggests optimal word\n",
    "    5. Process repeats until solution is found or we reach 6 guesses\n",
    "\n",
    "## How does the LLM make Strategic Decisions\n",
    "1. Strategic Decision Making:\n",
    "    - **Small Candidate Lists** (≤3 words):\n",
    "        * Performs direct information gain calculation for each candidate\n",
    "        * Selects the word that would provide maximum information\n",
    "        - **Larger Candidate Lists**:\n",
    "          * LLM performs deeper analysis using multiple function calls:\n",
    "            - evaluate_information_gain: Calculates expected entropy reduction\n",
    "            - analyze_letter_patterns: Examines letter frequencies and positional patterns\n",
    "            - explain_choice: Provides reasoning for the final selection which can be seen in the frontend\n",
    "\n",
    "2. Information Gain Calculation:\n",
    "    - Computes initial entropy of remaining word list\n",
    "    - For each potential guess, simulates all possible feedback patterns\n",
    "    - Groups remaining candidates by feedback pattern\n",
    "    - Calculates expected entropy after guess\n",
    "    - Information gain = initial entropy - expected entropy"
   ]
  }
 ],
 "metadata": {
  "language_info": {
   "name": "python"
  }
 },
 "nbformat": 4,
 "nbformat_minor": 2
}
