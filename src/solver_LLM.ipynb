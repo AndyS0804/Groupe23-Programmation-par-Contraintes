{
 "cells": [
  {
   "cell_type": "code",
   "execution_count": null,
   "metadata": {},
   "outputs": [],
   "source": [
    "%pip install openai\n",
    "import openai"
   ]
  },
  {
   "cell_type": "code",
   "execution_count": null,
   "metadata": {},
   "outputs": [],
   "source": [
    "API_KEY = \"sk-proj-1234567890\""
   ]
  },
  {
   "cell_type": "code",
   "execution_count": 7,
   "metadata": {},
   "outputs": [],
   "source": [
    "class LanguageAgent:\n",
    "    def __init_(self, model_name, strategy_agent):\n",
    "        self.model_name = model_name\n",
    "        self.client = openai.OpenAI(api_key=self.api_key)\n",
    "        self.strategy_agent = strategy_agent\n",
    "    \n",
    "        def suggest_word(self, word_list, constraints):\n",
    "            prompt = f\"\"\"\n",
    "            You are a language model that suggests words for a wordle game.\n",
    "            You are given a list of words and some constraints.\n",
    "            You need to suggest a word that matches the constraints.\n",
    "            \"\"\"\n",
    "\n",
    "            try:\n",
    "                response = self.client.chat.completions.create(\n",
    "                    model=self.model_name,\n",
    "                    messages=[\n",
    "                        {\"role\": \"system\", \"content\": prompt},\n",
    "                        {\"role\": \"user\", \"content\": word_list},\n",
    "                        {\"role\": \"user\", \"content\": constraints}\n",
    "                    ]\n",
    "                )\n",
    "\n",
    "                if response.choices:\n",
    "                    response_content = response.choices[0].message.content\n",
    "                    score = self.strategy_agent.evaluate_suggestion(response_content, constraints)\n",
    "                    \n",
    "                    if score > 0.8:\n",
    "                        return response_content\n",
    "                    else:\n",
    "                        \n",
    "                        return self.suggest_word(word_list, constraints)\n",
    "                else:\n",
    "                    raise ValueError(\"No choices returned from the API.\")\n",
    "            \n",
    "            except Exception as e:\n",
    "                print(f\"An error occurred: {e}\")\n",
    "                return None\n",
    "        "
   ]
  },
  {
   "cell_type": "code",
   "execution_count": 5,
   "metadata": {},
   "outputs": [],
   "source": [
    "class StrategyAgent:\n",
    "    def __init__(self, model_name, api_key):\n",
    "        self.model_name = model_name\n",
    "        self.api_key = api_key\n",
    "        self.client = OpenAI(api_key=self.api_key)\n",
    "\n",
    "    def evaluate_suggestion(self, suggestion, constraints):\n",
    "        prompt = f\"\"\"\n",
    "        You are a language model that evaluates a suggestion for a wordle game.\n",
    "        You are given a suggestion and some constraints.\n",
    "        You need to evaluate the suggestion and return a score between 0 and 1.\n",
    "        \"\"\"\n",
    "        \n"
   ]
  },
  {
   "cell_type": "code",
   "execution_count": null,
   "metadata": {},
   "outputs": [],
   "source": [
    "class MonitorAgent:\n",
    "    def __init__(self, word_list):\n",
    "        self.api_key = API_KEY\n",
    "        self.client = openai.OpenAI(api_key=self.api_key)\n",
    "        self.constraints = {\n",
    "            'green': {},\n",
    "            'yellow': set(),\n",
    "            'grey': set()\n",
    "        }\n",
    "\n",
    "    def generate_word_to_guess(self, word_list):\n",
    "\n",
    "\n",
    "\n",
    "    \n",
    "    def update_constraints(self, guess, feedback):\n",
    "        for i, (letter, result) in enumerate(zip(guess, feedback)):\n",
    "            if result == 'green':\n",
    "                self.constraints['green'][i] = letter\n",
    "            elif result == 'yellow':\n",
    "                self.constraints['yellow'].add(letter)\n",
    "            elif result == 'grey':\n",
    "                self.constraints['grey'].add(letter)\n",
    "    \n",
    "    def generate_feedback(self, guess, word):\n",
    "        feedback = []\n",
    "        for i, letter in enumerate(guess):\n",
    "            if letter == word[i]:\n",
    "                feedback.append('green')\n",
    "            elif letter in word:\n",
    "                feedback.append('yellow')\n",
    "            else:\n",
    "                feedback.append('grey')\n",
    "        return feedback\n",
    "    \n",
    "    def solve_wordle(self, word_list):\n",
    "        constraints = {\n",
    "            'green': {},\n",
    "            'yellow': set(),\n",
    "            'grey': set()\n",
    "        }\n",
    "\n",
    "        while True:\n",
    "            suggestion = self.language_agent.suggest_word(word_list, constraints)\n",
    "            feedback = self.generate_feedback(suggestion, word)\n",
    "            self.update_constraints(suggestion, feedback)\n",
    "\n",
    "\n",
    "\n",
    "    \n"
   ]
  },
  {
   "cell_type": "code",
   "execution_count": null,
   "metadata": {},
   "outputs": [],
   "source": []
  }
 ],
 "metadata": {
  "kernelspec": {
   "display_name": "Python 3",
   "language": "python",
   "name": "python3"
  },
  "language_info": {
   "codemirror_mode": {
    "name": "ipython",
    "version": 3
   },
   "file_extension": ".py",
   "mimetype": "text/x-python",
   "name": "python",
   "nbconvert_exporter": "python",
   "pygments_lexer": "ipython3",
   "version": "3.11.9"
  }
 },
 "nbformat": 4,
 "nbformat_minor": 2
}
