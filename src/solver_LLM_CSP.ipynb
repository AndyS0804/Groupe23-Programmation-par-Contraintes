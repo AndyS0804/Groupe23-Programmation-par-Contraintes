{
 "cells": [
  {
   "cell_type": "markdown",
   "metadata": {},
   "source": [
    "# CSP Solver for Wordle game\n",
    "\n",
    "### Useful links :\n",
    "- [Medium article](https://medium.com/better-programming/beating-wordle-constraint-programming-ef0b0b6897fe#:~:text=Beating%20Wordle%3A%20Constraint%20Programming,Wordle%20solver%20do%20its%20thing)\n",
    "- [Sample dataset (GitHub)](https://github.com/dwyl/english-words)\n"
   ]
  },
  {
   "cell_type": "code",
   "execution_count": null,
   "metadata": {},
   "outputs": [],
   "source": [
    "import pandas as pd\n",
    "\n",
    "total_words = pd.read_fwf(\"words_alpha.txt\", names=[\"words\"])\n",
    "\n",
    "words = total_words[total_words[\"words\"].str.len() == 5]\n",
    "\n",
    "words_data = []\n",
    "for word in words[\"words\"]:\n",
    "    words_data.append([ord(c) - ord(\"a\") for c in word])\n",
    "\n",
    "words_data\n"
   ]
  },
  {
   "cell_type": "code",
   "execution_count": 2,
   "metadata": {},
   "outputs": [],
   "source": [
    "def load_word_list(file_path):\n",
    "    with open(file_path, 'r') as f:\n",
    "        words = set(word.strip().lower() for word in f)\n",
    "    return words"
   ]
  },
  {
   "cell_type": "code",
   "execution_count": null,
   "metadata": {},
   "outputs": [],
   "source": [
    "def solve_wordle(wordle_input):\n",
    "    \"\"\"\n",
    "    Solve a Wordle game using constraint programming.\n",
    "\n",
    "    Args:\n",
    "        wordle_input (str): The input wordle game.\n",
    "\n",
    "    Returns:\n",
    "        str: The solution to the wordle game.\n",
    "    \"\"\"\n",
    "    model = cp_model.CpModel()\n",
    "\n"
   ]
  }
 ],
 "metadata": {
  "kernelspec": {
   "display_name": "myenv",
   "language": "python",
   "name": "python3"
  },
  "language_info": {
   "codemirror_mode": {
    "name": "ipython",
    "version": 3
   },
   "file_extension": ".py",
   "mimetype": "text/x-python",
   "name": "python",
   "nbconvert_exporter": "python",
   "pygments_lexer": "ipython3",
   "version": "3.11.9"
  }
 },
 "nbformat": 4,
 "nbformat_minor": 2
}
